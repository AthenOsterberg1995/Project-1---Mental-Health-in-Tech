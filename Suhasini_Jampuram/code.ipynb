{
 "cells": [
  {
   "cell_type": "code",
   "execution_count": 1,
   "id": "ddab0290",
   "metadata": {},
   "outputs": [],
   "source": [
    "import pandas as pd\n",
    "from pathlib import Path\n",
    "import matplotlib.pyplot as plt"
   ]
  },
  {
   "cell_type": "code",
   "execution_count": 2,
   "id": "0a98a7d9",
   "metadata": {},
   "outputs": [],
   "source": [
    "csv_path = Path(\"../data_cleaning/OSMI_clean.csv\")"
   ]
  },
  {
   "cell_type": "code",
   "execution_count": 3,
   "id": "9328c9d8",
   "metadata": {},
   "outputs": [
    {
     "ename": "FileNotFoundError",
     "evalue": "[Errno 2] No such file or directory: '..\\\\data_cleaning\\\\OSMI_clean.csv'",
     "output_type": "error",
     "traceback": [
      "\u001b[1;31m---------------------------------------------------------------------------\u001b[0m",
      "\u001b[1;31mFileNotFoundError\u001b[0m                         Traceback (most recent call last)",
      "Cell \u001b[1;32mIn[3], line 1\u001b[0m\n\u001b[1;32m----> 1\u001b[0m df \u001b[38;5;241m=\u001b[39m pd\u001b[38;5;241m.\u001b[39mread_csv(csv_path)\n\u001b[0;32m      2\u001b[0m df\u001b[38;5;241m.\u001b[39mhead()\n",
      "File \u001b[1;32m~\\anaconda3\\Lib\\site-packages\\pandas\\io\\parsers\\readers.py:948\u001b[0m, in \u001b[0;36mread_csv\u001b[1;34m(filepath_or_buffer, sep, delimiter, header, names, index_col, usecols, dtype, engine, converters, true_values, false_values, skipinitialspace, skiprows, skipfooter, nrows, na_values, keep_default_na, na_filter, verbose, skip_blank_lines, parse_dates, infer_datetime_format, keep_date_col, date_parser, date_format, dayfirst, cache_dates, iterator, chunksize, compression, thousands, decimal, lineterminator, quotechar, quoting, doublequote, escapechar, comment, encoding, encoding_errors, dialect, on_bad_lines, delim_whitespace, low_memory, memory_map, float_precision, storage_options, dtype_backend)\u001b[0m\n\u001b[0;32m    935\u001b[0m kwds_defaults \u001b[38;5;241m=\u001b[39m _refine_defaults_read(\n\u001b[0;32m    936\u001b[0m     dialect,\n\u001b[0;32m    937\u001b[0m     delimiter,\n\u001b[1;32m   (...)\u001b[0m\n\u001b[0;32m    944\u001b[0m     dtype_backend\u001b[38;5;241m=\u001b[39mdtype_backend,\n\u001b[0;32m    945\u001b[0m )\n\u001b[0;32m    946\u001b[0m kwds\u001b[38;5;241m.\u001b[39mupdate(kwds_defaults)\n\u001b[1;32m--> 948\u001b[0m \u001b[38;5;28;01mreturn\u001b[39;00m _read(filepath_or_buffer, kwds)\n",
      "File \u001b[1;32m~\\anaconda3\\Lib\\site-packages\\pandas\\io\\parsers\\readers.py:611\u001b[0m, in \u001b[0;36m_read\u001b[1;34m(filepath_or_buffer, kwds)\u001b[0m\n\u001b[0;32m    608\u001b[0m _validate_names(kwds\u001b[38;5;241m.\u001b[39mget(\u001b[38;5;124m\"\u001b[39m\u001b[38;5;124mnames\u001b[39m\u001b[38;5;124m\"\u001b[39m, \u001b[38;5;28;01mNone\u001b[39;00m))\n\u001b[0;32m    610\u001b[0m \u001b[38;5;66;03m# Create the parser.\u001b[39;00m\n\u001b[1;32m--> 611\u001b[0m parser \u001b[38;5;241m=\u001b[39m TextFileReader(filepath_or_buffer, \u001b[38;5;241m*\u001b[39m\u001b[38;5;241m*\u001b[39mkwds)\n\u001b[0;32m    613\u001b[0m \u001b[38;5;28;01mif\u001b[39;00m chunksize \u001b[38;5;129;01mor\u001b[39;00m iterator:\n\u001b[0;32m    614\u001b[0m     \u001b[38;5;28;01mreturn\u001b[39;00m parser\n",
      "File \u001b[1;32m~\\anaconda3\\Lib\\site-packages\\pandas\\io\\parsers\\readers.py:1448\u001b[0m, in \u001b[0;36mTextFileReader.__init__\u001b[1;34m(self, f, engine, **kwds)\u001b[0m\n\u001b[0;32m   1445\u001b[0m     \u001b[38;5;28mself\u001b[39m\u001b[38;5;241m.\u001b[39moptions[\u001b[38;5;124m\"\u001b[39m\u001b[38;5;124mhas_index_names\u001b[39m\u001b[38;5;124m\"\u001b[39m] \u001b[38;5;241m=\u001b[39m kwds[\u001b[38;5;124m\"\u001b[39m\u001b[38;5;124mhas_index_names\u001b[39m\u001b[38;5;124m\"\u001b[39m]\n\u001b[0;32m   1447\u001b[0m \u001b[38;5;28mself\u001b[39m\u001b[38;5;241m.\u001b[39mhandles: IOHandles \u001b[38;5;241m|\u001b[39m \u001b[38;5;28;01mNone\u001b[39;00m \u001b[38;5;241m=\u001b[39m \u001b[38;5;28;01mNone\u001b[39;00m\n\u001b[1;32m-> 1448\u001b[0m \u001b[38;5;28mself\u001b[39m\u001b[38;5;241m.\u001b[39m_engine \u001b[38;5;241m=\u001b[39m \u001b[38;5;28mself\u001b[39m\u001b[38;5;241m.\u001b[39m_make_engine(f, \u001b[38;5;28mself\u001b[39m\u001b[38;5;241m.\u001b[39mengine)\n",
      "File \u001b[1;32m~\\anaconda3\\Lib\\site-packages\\pandas\\io\\parsers\\readers.py:1705\u001b[0m, in \u001b[0;36mTextFileReader._make_engine\u001b[1;34m(self, f, engine)\u001b[0m\n\u001b[0;32m   1703\u001b[0m     \u001b[38;5;28;01mif\u001b[39;00m \u001b[38;5;124m\"\u001b[39m\u001b[38;5;124mb\u001b[39m\u001b[38;5;124m\"\u001b[39m \u001b[38;5;129;01mnot\u001b[39;00m \u001b[38;5;129;01min\u001b[39;00m mode:\n\u001b[0;32m   1704\u001b[0m         mode \u001b[38;5;241m+\u001b[39m\u001b[38;5;241m=\u001b[39m \u001b[38;5;124m\"\u001b[39m\u001b[38;5;124mb\u001b[39m\u001b[38;5;124m\"\u001b[39m\n\u001b[1;32m-> 1705\u001b[0m \u001b[38;5;28mself\u001b[39m\u001b[38;5;241m.\u001b[39mhandles \u001b[38;5;241m=\u001b[39m get_handle(\n\u001b[0;32m   1706\u001b[0m     f,\n\u001b[0;32m   1707\u001b[0m     mode,\n\u001b[0;32m   1708\u001b[0m     encoding\u001b[38;5;241m=\u001b[39m\u001b[38;5;28mself\u001b[39m\u001b[38;5;241m.\u001b[39moptions\u001b[38;5;241m.\u001b[39mget(\u001b[38;5;124m\"\u001b[39m\u001b[38;5;124mencoding\u001b[39m\u001b[38;5;124m\"\u001b[39m, \u001b[38;5;28;01mNone\u001b[39;00m),\n\u001b[0;32m   1709\u001b[0m     compression\u001b[38;5;241m=\u001b[39m\u001b[38;5;28mself\u001b[39m\u001b[38;5;241m.\u001b[39moptions\u001b[38;5;241m.\u001b[39mget(\u001b[38;5;124m\"\u001b[39m\u001b[38;5;124mcompression\u001b[39m\u001b[38;5;124m\"\u001b[39m, \u001b[38;5;28;01mNone\u001b[39;00m),\n\u001b[0;32m   1710\u001b[0m     memory_map\u001b[38;5;241m=\u001b[39m\u001b[38;5;28mself\u001b[39m\u001b[38;5;241m.\u001b[39moptions\u001b[38;5;241m.\u001b[39mget(\u001b[38;5;124m\"\u001b[39m\u001b[38;5;124mmemory_map\u001b[39m\u001b[38;5;124m\"\u001b[39m, \u001b[38;5;28;01mFalse\u001b[39;00m),\n\u001b[0;32m   1711\u001b[0m     is_text\u001b[38;5;241m=\u001b[39mis_text,\n\u001b[0;32m   1712\u001b[0m     errors\u001b[38;5;241m=\u001b[39m\u001b[38;5;28mself\u001b[39m\u001b[38;5;241m.\u001b[39moptions\u001b[38;5;241m.\u001b[39mget(\u001b[38;5;124m\"\u001b[39m\u001b[38;5;124mencoding_errors\u001b[39m\u001b[38;5;124m\"\u001b[39m, \u001b[38;5;124m\"\u001b[39m\u001b[38;5;124mstrict\u001b[39m\u001b[38;5;124m\"\u001b[39m),\n\u001b[0;32m   1713\u001b[0m     storage_options\u001b[38;5;241m=\u001b[39m\u001b[38;5;28mself\u001b[39m\u001b[38;5;241m.\u001b[39moptions\u001b[38;5;241m.\u001b[39mget(\u001b[38;5;124m\"\u001b[39m\u001b[38;5;124mstorage_options\u001b[39m\u001b[38;5;124m\"\u001b[39m, \u001b[38;5;28;01mNone\u001b[39;00m),\n\u001b[0;32m   1714\u001b[0m )\n\u001b[0;32m   1715\u001b[0m \u001b[38;5;28;01massert\u001b[39;00m \u001b[38;5;28mself\u001b[39m\u001b[38;5;241m.\u001b[39mhandles \u001b[38;5;129;01mis\u001b[39;00m \u001b[38;5;129;01mnot\u001b[39;00m \u001b[38;5;28;01mNone\u001b[39;00m\n\u001b[0;32m   1716\u001b[0m f \u001b[38;5;241m=\u001b[39m \u001b[38;5;28mself\u001b[39m\u001b[38;5;241m.\u001b[39mhandles\u001b[38;5;241m.\u001b[39mhandle\n",
      "File \u001b[1;32m~\\anaconda3\\Lib\\site-packages\\pandas\\io\\common.py:863\u001b[0m, in \u001b[0;36mget_handle\u001b[1;34m(path_or_buf, mode, encoding, compression, memory_map, is_text, errors, storage_options)\u001b[0m\n\u001b[0;32m    858\u001b[0m \u001b[38;5;28;01melif\u001b[39;00m \u001b[38;5;28misinstance\u001b[39m(handle, \u001b[38;5;28mstr\u001b[39m):\n\u001b[0;32m    859\u001b[0m     \u001b[38;5;66;03m# Check whether the filename is to be opened in binary mode.\u001b[39;00m\n\u001b[0;32m    860\u001b[0m     \u001b[38;5;66;03m# Binary mode does not support 'encoding' and 'newline'.\u001b[39;00m\n\u001b[0;32m    861\u001b[0m     \u001b[38;5;28;01mif\u001b[39;00m ioargs\u001b[38;5;241m.\u001b[39mencoding \u001b[38;5;129;01mand\u001b[39;00m \u001b[38;5;124m\"\u001b[39m\u001b[38;5;124mb\u001b[39m\u001b[38;5;124m\"\u001b[39m \u001b[38;5;129;01mnot\u001b[39;00m \u001b[38;5;129;01min\u001b[39;00m ioargs\u001b[38;5;241m.\u001b[39mmode:\n\u001b[0;32m    862\u001b[0m         \u001b[38;5;66;03m# Encoding\u001b[39;00m\n\u001b[1;32m--> 863\u001b[0m         handle \u001b[38;5;241m=\u001b[39m \u001b[38;5;28mopen\u001b[39m(\n\u001b[0;32m    864\u001b[0m             handle,\n\u001b[0;32m    865\u001b[0m             ioargs\u001b[38;5;241m.\u001b[39mmode,\n\u001b[0;32m    866\u001b[0m             encoding\u001b[38;5;241m=\u001b[39mioargs\u001b[38;5;241m.\u001b[39mencoding,\n\u001b[0;32m    867\u001b[0m             errors\u001b[38;5;241m=\u001b[39merrors,\n\u001b[0;32m    868\u001b[0m             newline\u001b[38;5;241m=\u001b[39m\u001b[38;5;124m\"\u001b[39m\u001b[38;5;124m\"\u001b[39m,\n\u001b[0;32m    869\u001b[0m         )\n\u001b[0;32m    870\u001b[0m     \u001b[38;5;28;01melse\u001b[39;00m:\n\u001b[0;32m    871\u001b[0m         \u001b[38;5;66;03m# Binary mode\u001b[39;00m\n\u001b[0;32m    872\u001b[0m         handle \u001b[38;5;241m=\u001b[39m \u001b[38;5;28mopen\u001b[39m(handle, ioargs\u001b[38;5;241m.\u001b[39mmode)\n",
      "\u001b[1;31mFileNotFoundError\u001b[0m: [Errno 2] No such file or directory: '..\\\\data_cleaning\\\\OSMI_clean.csv'"
     ]
    }
   ],
   "source": [
    "df = pd.read_csv(csv_path)\n",
    "df.head()"
   ]
  },
  {
   "cell_type": "code",
   "execution_count": null,
   "id": "fab64592",
   "metadata": {},
   "outputs": [],
   "source": [
    "df_demographics = df[[\"employer provided mental healthcare awareness\", \"Gender\", \"Age\", \"Country of residence\", \"year\"]]\n",
    "df_demographics.head()"
   ]
  },
  {
   "cell_type": "code",
   "execution_count": null,
   "id": "70528728",
   "metadata": {},
   "outputs": [],
   "source": [
    "df_demographics_filtered = df_demographics.dropna()"
   ]
  },
  {
   "cell_type": "code",
   "execution_count": null,
   "id": "669fb1f3",
   "metadata": {},
   "outputs": [],
   "source": [
    "df_demographics_filtered[\"Gender\"].unique()"
   ]
  },
  {
   "cell_type": "code",
   "execution_count": null,
   "id": "5eaea978",
   "metadata": {},
   "outputs": [],
   "source": [
    "replace_values = ['F', 'female', 'Female', 'Woman', 'femalw', 'femail', 'female (cis)','Female ','f','My sex is female.',\n",
    "                  'My sex is female', 'woman', 'female (cisgender)', 'Female (cis)','Female/gender non-binary.',\n",
    "                  'Genderqueer demigirl', 'cis-Female', 'cis female', 'F', 'Female (cis) ', 'cisgender',\n",
    "                  'born with xy chromosoms', 'I identify as female', 'Cis woman','Female/gender non-binary.'\n",
    "                  'Female (cisgender)', 'Cis-Female', 'Cisgendered woman', 'Trans woman',\n",
    "                  'She/her/they/them', 'cisgender female', 'cis woman', 'Agender trans woman',\n",
    "                  'femmina', 'Femile', 'Female (cis)', 'FEMALE', 'female, she/her']\n"
   ]
  },
  {
   "cell_type": "code",
   "execution_count": null,
   "id": "1b3ebed5",
   "metadata": {
    "scrolled": true
   },
   "outputs": [],
   "source": [
    "df_demographics_filtered.loc[:, \"Gender\"] = df_demographics_filtered[\"Gender\"].replace(replace_values, \"Female\")\n",
    "df_demographics_filtered[\"Gender\"].unique()"
   ]
  },
  {
   "cell_type": "code",
   "execution_count": null,
   "id": "b13fa9f2",
   "metadata": {},
   "outputs": [],
   "source": [
    "replace_values = ['male', 'Male', 'M', 'Man','cis-male', 'Mail', 'cis hetero male', 'm', 'Male (cis)','God King of the Valajar','male, born with xy chromosoms',\n",
    "       'Cis male', 'man','cis male ','Male ', 'Cis-male', 'Cis Male','dude', 'Ostensibly Male','male','cis male', 'Male','dude', 'Ostensibly Male','male','cis male','Cisgender male','Let\\'s keep it simple and say \"male\"','Identify as male','Masculine','Cishet male','mostly male', 'cisgender male',\n",
    "       'MAle','MALE', 'male/he/him','cis-het male']"
   ]
  },
  {
   "cell_type": "code",
   "execution_count": null,
   "id": "44e1063d",
   "metadata": {},
   "outputs": [],
   "source": [
    "df_demographics_filtered.loc[:, \"Gender\"] = df_demographics_filtered[\"Gender\"].replace(replace_values, \"Male\")\n",
    "df_demographics_filtered[\"Gender\"].unique()"
   ]
  },
  {
   "cell_type": "code",
   "execution_count": null,
   "id": "3efb5f95",
   "metadata": {},
   "outputs": [],
   "source": [
    "replace_values = ['Genderfluid','Nonbinary','uhhhhhhhhh fem genderqueer?','Non-binary','Agender/genderfluid','sometimes','Contextual',\n",
    "                  'Non binary','F','cisgender','Transfeminine', 'Agender', 'Trans man', 'transgender', 'Female (cisgender)',\n",
    "                  'Genderqueer', 'Demiguy', 'none', 'Trans female', 'Other', 'SWM', 'NB', 'gender non-conforming woman','Questioning',\n",
    "                  '43', 'masculino', 'Make', 'Trans non-binary/genderfluid', 'CIS Male', 'Non-binary and gender fluid', 'afab non-binary',\n",
    "                  'homem cis', 'Non-binary/Agender', 'F, cisgender', '\\\\-', 'non binary',\n",
    "       'genderfluid', 'non-binary', 'agender']"
   ]
  },
  {
   "cell_type": "code",
   "execution_count": null,
   "id": "9190b811",
   "metadata": {},
   "outputs": [],
   "source": [
    "df_demographics_filtered.loc[:, \"Gender\"] = df_demographics_filtered[\"Gender\"].replace(replace_values, \"Other\")\n",
    "df_demographics_filtered[\"Gender\"].unique()"
   ]
  },
  {
   "cell_type": "code",
   "execution_count": null,
   "id": "5f1ef914",
   "metadata": {},
   "outputs": [],
   "source": [
    "df_demographics_filtered.loc[ : \"Age\"] = df_demographics_filtered[df_demographics_filtered[\"Age\"] > 20]\n",
    "df_demographics_filtered_final = df_demographics_filtered.loc[ : \"Age\"]"
   ]
  },
  {
   "cell_type": "code",
   "execution_count": null,
   "id": "a350ca55",
   "metadata": {},
   "outputs": [],
   "source": [
    "output_file_path = \"Output/df_demographics_filtered.csv\""
   ]
  },
  {
   "cell_type": "code",
   "execution_count": null,
   "id": "dd386edb",
   "metadata": {},
   "outputs": [],
   "source": [
    "df_demographics_filtered_final.to_csv(output_file_path, index=False)"
   ]
  },
  {
   "cell_type": "code",
   "execution_count": null,
   "id": "89ebd23d",
   "metadata": {},
   "outputs": [],
   "source": [
    "grouped_data = df_demographics_filtered_final.groupby(['Gender', 'employer provided mental healthcare awareness']).size().unstack()\n",
    "grouped_data.plot(kind='bar', color=['lightcoral', 'skyblue'])\n",
    "plt.title('Distribution of Mental Healthcare Awareness by Gender')\n",
    "plt.xlabel('Gender')\n",
    "plt.ylabel('Count')\n",
    "plt.legend(title='Mental Healthcare Awareness',loc='upper right')\n",
    "plt.show()"
   ]
  },
  {
   "cell_type": "code",
   "execution_count": null,
   "id": "0b7899a5",
   "metadata": {},
   "outputs": [],
   "source": [
    "from scipy.stats import poisson_means_test\n",
    "poisson_means_test(241, 241+209, 404, 938, diff=0, alternative='two-sided')"
   ]
  },
  {
   "cell_type": "code",
   "execution_count": null,
   "id": "909d54b4",
   "metadata": {},
   "outputs": [],
   "source": [
    "df_demographics_filtered_final.head()"
   ]
  },
  {
   "cell_type": "code",
   "execution_count": null,
   "id": "2e704cc9",
   "metadata": {},
   "outputs": [],
   "source": [
    "age_bins = [20, 30, 40, 50, 60, 70]\n",
    "df_demographics_filtered_final['Age Group'] = pd.cut(df_demographics_filtered_final['Age'], bins=age_bins)\n",
    "\n",
    "#Chart plotting\n",
    "plt.figure(figsize=(12, 6))\n",
    "df_grouped = df_demographics_filtered_final.groupby(['Age Group', 'employer provided mental healthcare awareness']).size().unstack()\n",
    "df_grouped.plot(kind='bar', color=['lightcoral', 'skyblue'])\n",
    "plt.title('Employer Provided Mental Healthcare Awareness by Age Group')\n",
    "plt.xlabel('Age Group')\n",
    "plt.ylabel('Count')\n",
    "plt.legend(title='Mental Healthcare Awareness', loc='upper right')\n",
    "plt.show()"
   ]
  },
  {
   "cell_type": "code",
   "execution_count": null,
   "id": "e2b37103",
   "metadata": {},
   "outputs": [],
   "source": [
    "selected_columns = df_demographics_filtered_final[['employer provided mental healthcare awareness', 'Country of residence']]\n",
    "\n",
    "df_colums = pd.DataFrame(selected_columns)\n",
    "df_groupby = df_colums.groupby(['Country of residence', 'employer provided mental healthcare awareness']).size().to_frame().reset_index()\n",
    "\n",
    "#df_groupby_sorted = df_groupby.sort_values(by='Country of residence', ascending=False)\n",
    "#df_groupby_sorted\n",
    "\n",
    "#df_groupby.plot(kind='bar', color=['lightcoral', 'skyblue'])\n",
    "#Yes_values = df_colums[df_colums[\"employer provided mental healthcare awareness\"] == \"Yes\"]\n",
    "#df_yes = pd.DataFrame(Yes_values.value_counts())\n",
    "#df_yes\n",
    "#df_groupby = df.groupby('employer provided mental healthcare awareness')\n",
    "#df_modified = df_groupby.value_counts()\n",
    "#df_groupby\n",
    "#df_final = pd.DataFrame(df_modified)\n",
    "#df_final\n",
    "#Yes_df = df_final[df_final['employer provided mental healthcare awareness'] == 'Yes']\n"
   ]
  },
  {
   "cell_type": "code",
   "execution_count": null,
   "id": "d7eb3e5b",
   "metadata": {},
   "outputs": [],
   "source": []
  },
  {
   "cell_type": "code",
   "execution_count": null,
   "id": "14552e35",
   "metadata": {},
   "outputs": [],
   "source": []
  },
  {
   "cell_type": "code",
   "execution_count": null,
   "id": "4772a416",
   "metadata": {},
   "outputs": [],
   "source": []
  }
 ],
 "metadata": {
  "kernelspec": {
   "display_name": "Python 3 (ipykernel)",
   "language": "python",
   "name": "python3"
  },
  "language_info": {
   "codemirror_mode": {
    "name": "ipython",
    "version": 3
   },
   "file_extension": ".py",
   "mimetype": "text/x-python",
   "name": "python",
   "nbconvert_exporter": "python",
   "pygments_lexer": "ipython3",
   "version": "3.11.5"
  }
 },
 "nbformat": 4,
 "nbformat_minor": 5
}
