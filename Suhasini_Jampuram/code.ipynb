{
 "cells": [
  {
   "cell_type": "code",
   "execution_count": 90,
   "id": "ddab0290",
   "metadata": {},
   "outputs": [],
   "source": [
    "import pandas as pd\n",
    "from pathlib import Path\n",
    "import matplotlib.pyplot as plt"
   ]
  },
  {
   "cell_type": "code",
   "execution_count": 91,
   "id": "0a98a7d9",
   "metadata": {},
   "outputs": [],
   "source": [
    "csv_path = Path(\"../data_cleaning/OSMI_clean.csv\")"
   ]
  },
  {
   "cell_type": "code",
   "execution_count": 92,
   "id": "9328c9d8",
   "metadata": {},
   "outputs": [
    {
     "data": {
      "text/html": [
       "<div>\n",
       "<style scoped>\n",
       "    .dataframe tbody tr th:only-of-type {\n",
       "        vertical-align: middle;\n",
       "    }\n",
       "\n",
       "    .dataframe tbody tr th {\n",
       "        vertical-align: top;\n",
       "    }\n",
       "\n",
       "    .dataframe thead th {\n",
       "        text-align: right;\n",
       "    }\n",
       "</style>\n",
       "<table border=\"1\" class=\"dataframe\">\n",
       "  <thead>\n",
       "    <tr style=\"text-align: right;\">\n",
       "      <th></th>\n",
       "      <th>tech company</th>\n",
       "      <th>employer provided healthcare with mental benefits</th>\n",
       "      <th>employer provided mental healthcare awareness</th>\n",
       "      <th>current mental health disorder</th>\n",
       "      <th>mental health diagnosis</th>\n",
       "      <th>family history of mental illness</th>\n",
       "      <th>discussed personal mental health with employer</th>\n",
       "      <th>anonymity protected when using benefits</th>\n",
       "      <th>ease of asking for leave</th>\n",
       "      <th>comfortable discussing a mental health issue with direct supervisor(s)</th>\n",
       "      <th>comfortable discussing a mental health issue with coworkers</th>\n",
       "      <th>Number of employees</th>\n",
       "      <th>how well do you think the tech industry supports employees with mental health issues</th>\n",
       "      <th>observed or experienced an unsupportive or badly handled response to a mental health issue in your current or previous workplace?</th>\n",
       "      <th>observed or experienced supportive or well handled response to a mental health issue in your current or previous workplace</th>\n",
       "      <th>Age</th>\n",
       "      <th>Gender</th>\n",
       "      <th>Country of residence</th>\n",
       "      <th>Race</th>\n",
       "      <th>year</th>\n",
       "    </tr>\n",
       "  </thead>\n",
       "  <tbody>\n",
       "    <tr>\n",
       "      <th>0</th>\n",
       "      <td>1.0</td>\n",
       "      <td>No</td>\n",
       "      <td>Yes</td>\n",
       "      <td>Possibly</td>\n",
       "      <td>NaN</td>\n",
       "      <td>No</td>\n",
       "      <td>0.0</td>\n",
       "      <td>I don't know</td>\n",
       "      <td>I don't know</td>\n",
       "      <td>Yes</td>\n",
       "      <td>Yes</td>\n",
       "      <td>100-500</td>\n",
       "      <td>1.0</td>\n",
       "      <td>Yes, I experienced</td>\n",
       "      <td>Yes, I experienced</td>\n",
       "      <td>27.0</td>\n",
       "      <td>Female</td>\n",
       "      <td>United Kingdom</td>\n",
       "      <td>NaN</td>\n",
       "      <td>2017</td>\n",
       "    </tr>\n",
       "    <tr>\n",
       "      <th>1</th>\n",
       "      <td>1.0</td>\n",
       "      <td>Yes</td>\n",
       "      <td>Yes</td>\n",
       "      <td>Possibly</td>\n",
       "      <td>NaN</td>\n",
       "      <td>No</td>\n",
       "      <td>0.0</td>\n",
       "      <td>I don't know</td>\n",
       "      <td>I don't know</td>\n",
       "      <td>Maybe</td>\n",
       "      <td>Yes</td>\n",
       "      <td>100-500</td>\n",
       "      <td>2.0</td>\n",
       "      <td>Yes, I observed</td>\n",
       "      <td>Maybe/Not sure</td>\n",
       "      <td>31.0</td>\n",
       "      <td>male</td>\n",
       "      <td>United Kingdom</td>\n",
       "      <td>NaN</td>\n",
       "      <td>2017</td>\n",
       "    </tr>\n",
       "    <tr>\n",
       "      <th>2</th>\n",
       "      <td>1.0</td>\n",
       "      <td>I don't know</td>\n",
       "      <td>No</td>\n",
       "      <td>Yes</td>\n",
       "      <td>Yes</td>\n",
       "      <td>Yes</td>\n",
       "      <td>1.0</td>\n",
       "      <td>Yes</td>\n",
       "      <td>Difficult</td>\n",
       "      <td>Yes</td>\n",
       "      <td>Maybe</td>\n",
       "      <td>6-25</td>\n",
       "      <td>1.0</td>\n",
       "      <td>Yes, I experienced</td>\n",
       "      <td>Yes, I experienced</td>\n",
       "      <td>36.0</td>\n",
       "      <td>male</td>\n",
       "      <td>United States of America</td>\n",
       "      <td>White</td>\n",
       "      <td>2017</td>\n",
       "    </tr>\n",
       "    <tr>\n",
       "      <th>3</th>\n",
       "      <td>1.0</td>\n",
       "      <td>Yes</td>\n",
       "      <td>Yes</td>\n",
       "      <td>Yes</td>\n",
       "      <td>Yes</td>\n",
       "      <td>I don't know</td>\n",
       "      <td>1.0</td>\n",
       "      <td>Yes</td>\n",
       "      <td>Difficult</td>\n",
       "      <td>Yes</td>\n",
       "      <td>Yes</td>\n",
       "      <td>More than 1000</td>\n",
       "      <td>2.0</td>\n",
       "      <td>Maybe/Not sure</td>\n",
       "      <td>Maybe/Not sure</td>\n",
       "      <td>22.0</td>\n",
       "      <td>Male</td>\n",
       "      <td>United States of America</td>\n",
       "      <td>White</td>\n",
       "      <td>2017</td>\n",
       "    </tr>\n",
       "    <tr>\n",
       "      <th>4</th>\n",
       "      <td>NaN</td>\n",
       "      <td>NaN</td>\n",
       "      <td>NaN</td>\n",
       "      <td>No</td>\n",
       "      <td>NaN</td>\n",
       "      <td>Yes</td>\n",
       "      <td>NaN</td>\n",
       "      <td>NaN</td>\n",
       "      <td>NaN</td>\n",
       "      <td>NaN</td>\n",
       "      <td>NaN</td>\n",
       "      <td>NaN</td>\n",
       "      <td>1.0</td>\n",
       "      <td>No</td>\n",
       "      <td>Yes, I observed</td>\n",
       "      <td>52.0</td>\n",
       "      <td>female</td>\n",
       "      <td>United States of America</td>\n",
       "      <td>More than one of the above</td>\n",
       "      <td>2017</td>\n",
       "    </tr>\n",
       "  </tbody>\n",
       "</table>\n",
       "</div>"
      ],
      "text/plain": [
       "  tech company employer provided healthcare with mental benefits  \\\n",
       "0          1.0                                                No   \n",
       "1          1.0                                               Yes   \n",
       "2          1.0                                      I don't know   \n",
       "3          1.0                                               Yes   \n",
       "4          NaN                                               NaN   \n",
       "\n",
       "  employer provided mental healthcare awareness  \\\n",
       "0                                           Yes   \n",
       "1                                           Yes   \n",
       "2                                            No   \n",
       "3                                           Yes   \n",
       "4                                           NaN   \n",
       "\n",
       "  current mental health disorder mental health diagnosis  \\\n",
       "0                       Possibly                     NaN   \n",
       "1                       Possibly                     NaN   \n",
       "2                            Yes                     Yes   \n",
       "3                            Yes                     Yes   \n",
       "4                             No                     NaN   \n",
       "\n",
       "  family history of mental illness  \\\n",
       "0                               No   \n",
       "1                               No   \n",
       "2                              Yes   \n",
       "3                     I don't know   \n",
       "4                              Yes   \n",
       "\n",
       "  discussed personal mental health with employer  \\\n",
       "0                                            0.0   \n",
       "1                                            0.0   \n",
       "2                                            1.0   \n",
       "3                                            1.0   \n",
       "4                                            NaN   \n",
       "\n",
       "  anonymity protected when using benefits ease of asking for leave  \\\n",
       "0                            I don't know             I don't know   \n",
       "1                            I don't know             I don't know   \n",
       "2                                     Yes                Difficult   \n",
       "3                                     Yes                Difficult   \n",
       "4                                     NaN                      NaN   \n",
       "\n",
       "  comfortable discussing a mental health issue with direct supervisor(s)  \\\n",
       "0                                                Yes                       \n",
       "1                                              Maybe                       \n",
       "2                                                Yes                       \n",
       "3                                                Yes                       \n",
       "4                                                NaN                       \n",
       "\n",
       "  comfortable discussing a mental health issue with coworkers  \\\n",
       "0                                                Yes            \n",
       "1                                                Yes            \n",
       "2                                              Maybe            \n",
       "3                                                Yes            \n",
       "4                                                NaN            \n",
       "\n",
       "  Number of employees  \\\n",
       "0             100-500   \n",
       "1             100-500   \n",
       "2                6-25   \n",
       "3      More than 1000   \n",
       "4                 NaN   \n",
       "\n",
       "   how well do you think the tech industry supports employees with mental health issues  \\\n",
       "0                                                1.0                                      \n",
       "1                                                2.0                                      \n",
       "2                                                1.0                                      \n",
       "3                                                2.0                                      \n",
       "4                                                1.0                                      \n",
       "\n",
       "  observed or experienced an unsupportive or badly handled response to a mental health issue in your current or previous workplace?  \\\n",
       "0                                 Yes, I experienced                                                                                  \n",
       "1                                    Yes, I observed                                                                                  \n",
       "2                                 Yes, I experienced                                                                                  \n",
       "3                                     Maybe/Not sure                                                                                  \n",
       "4                                                 No                                                                                  \n",
       "\n",
       "  observed or experienced supportive or well handled response to a mental health issue in your current or previous workplace  \\\n",
       "0                                 Yes, I experienced                                                                           \n",
       "1                                     Maybe/Not sure                                                                           \n",
       "2                                 Yes, I experienced                                                                           \n",
       "3                                     Maybe/Not sure                                                                           \n",
       "4                                    Yes, I observed                                                                           \n",
       "\n",
       "    Age  Gender      Country of residence                        Race  year  \n",
       "0  27.0  Female            United Kingdom                         NaN  2017  \n",
       "1  31.0    male            United Kingdom                         NaN  2017  \n",
       "2  36.0    male  United States of America                       White  2017  \n",
       "3  22.0    Male  United States of America                       White  2017  \n",
       "4  52.0  female  United States of America  More than one of the above  2017  "
      ]
     },
     "execution_count": 92,
     "metadata": {},
     "output_type": "execute_result"
    }
   ],
   "source": [
    "df = pd.read_csv(csv_path)\n",
    "df.head()"
   ]
  },
  {
   "cell_type": "code",
   "execution_count": 93,
   "id": "fab64592",
   "metadata": {},
   "outputs": [
    {
     "data": {
      "text/html": [
       "<div>\n",
       "<style scoped>\n",
       "    .dataframe tbody tr th:only-of-type {\n",
       "        vertical-align: middle;\n",
       "    }\n",
       "\n",
       "    .dataframe tbody tr th {\n",
       "        vertical-align: top;\n",
       "    }\n",
       "\n",
       "    .dataframe thead th {\n",
       "        text-align: right;\n",
       "    }\n",
       "</style>\n",
       "<table border=\"1\" class=\"dataframe\">\n",
       "  <thead>\n",
       "    <tr style=\"text-align: right;\">\n",
       "      <th></th>\n",
       "      <th>employer provided mental healthcare awareness</th>\n",
       "      <th>Gender</th>\n",
       "      <th>Age</th>\n",
       "      <th>Country of residence</th>\n",
       "      <th>year</th>\n",
       "    </tr>\n",
       "  </thead>\n",
       "  <tbody>\n",
       "    <tr>\n",
       "      <th>0</th>\n",
       "      <td>Yes</td>\n",
       "      <td>Female</td>\n",
       "      <td>27.0</td>\n",
       "      <td>United Kingdom</td>\n",
       "      <td>2017</td>\n",
       "    </tr>\n",
       "    <tr>\n",
       "      <th>1</th>\n",
       "      <td>Yes</td>\n",
       "      <td>male</td>\n",
       "      <td>31.0</td>\n",
       "      <td>United Kingdom</td>\n",
       "      <td>2017</td>\n",
       "    </tr>\n",
       "    <tr>\n",
       "      <th>2</th>\n",
       "      <td>No</td>\n",
       "      <td>male</td>\n",
       "      <td>36.0</td>\n",
       "      <td>United States of America</td>\n",
       "      <td>2017</td>\n",
       "    </tr>\n",
       "    <tr>\n",
       "      <th>3</th>\n",
       "      <td>Yes</td>\n",
       "      <td>Male</td>\n",
       "      <td>22.0</td>\n",
       "      <td>United States of America</td>\n",
       "      <td>2017</td>\n",
       "    </tr>\n",
       "    <tr>\n",
       "      <th>4</th>\n",
       "      <td>NaN</td>\n",
       "      <td>female</td>\n",
       "      <td>52.0</td>\n",
       "      <td>United States of America</td>\n",
       "      <td>2017</td>\n",
       "    </tr>\n",
       "  </tbody>\n",
       "</table>\n",
       "</div>"
      ],
      "text/plain": [
       "  employer provided mental healthcare awareness  Gender   Age  \\\n",
       "0                                           Yes  Female  27.0   \n",
       "1                                           Yes    male  31.0   \n",
       "2                                            No    male  36.0   \n",
       "3                                           Yes    Male  22.0   \n",
       "4                                           NaN  female  52.0   \n",
       "\n",
       "       Country of residence  year  \n",
       "0            United Kingdom  2017  \n",
       "1            United Kingdom  2017  \n",
       "2  United States of America  2017  \n",
       "3  United States of America  2017  \n",
       "4  United States of America  2017  "
      ]
     },
     "execution_count": 93,
     "metadata": {},
     "output_type": "execute_result"
    }
   ],
   "source": [
    "df_demographics = df[[\"employer provided mental healthcare awareness\", \"Gender\", \"Age\", \"Country of residence\", \"year\"]]\n",
    "df_demographics.head()"
   ]
  },
  {
   "cell_type": "code",
   "execution_count": 94,
   "id": "70528728",
   "metadata": {},
   "outputs": [],
   "source": [
    "df_demographics_filtered = df_demographics.dropna()"
   ]
  },
  {
   "cell_type": "code",
   "execution_count": 95,
   "id": "669fb1f3",
   "metadata": {},
   "outputs": [
    {
     "data": {
      "text/plain": [
       "array(['Female', 'male', 'Male', 'F', 'M', 'female', 'Man', 'f',\n",
       "       'Genderfluid', 'Nonbinary', 'Female ', 'cis-male', 'Mail', 'Woman',\n",
       "       'cis hetero male', 'm', 'femalw', 'femail', 'Male (cis)',\n",
       "       'uhhhhhhhhh fem genderqueer?', 'female (cis)',\n",
       "       'God King of the Valajar', 'Cis male', 'man', 'My sex is female.',\n",
       "       'Non-binary', 'cis male ', 'Agender/genderfluid', 'Male ', 'woman',\n",
       "       'sometimes', 'female (cisgender)', 'Female (cis) ', 'Contextual',\n",
       "       'Non binary', 'Genderqueer demigirl', 'cis-Female', 'cis female',\n",
       "       'F, cisgender', '\\\\-', 'Transfeminine', 'Cis-male', 'Cis Male',\n",
       "       'dude', 'Ostensibly Male', 'Agender',\n",
       "       'male, born with xy chromosoms', 'I identify as female',\n",
       "       'Trans man', 'transgender', 'cis male', 'non binary',\n",
       "       'Female/gender non-binary.', 'Cis woman', 'Female (cisgender)',\n",
       "       'Cis-Female', 'Cisgendered woman', 'Trans woman', 'genderfluid',\n",
       "       'Genderqueer', 'Demiguy', 'none', 'Trans female', 'Cisgender male',\n",
       "       'non-binary', 'She/her/they/them', 'Other', 'SWM',\n",
       "       'cisgender female', 'NB', 'gender non-conforming woman',\n",
       "       'Let\\'s keep it simple and say \"male\"', 'Identify as male',\n",
       "       'Masculine', 'Cishet male', 'agender', 'Questioning', 'cis woman',\n",
       "       'Agender trans woman', 'femmina', '43', 'masculino', 'Make',\n",
       "       'Trans non-binary/genderfluid', 'CIS Male',\n",
       "       'Non-binary and gender fluid', 'Femile', 'Female (cis)', 'FEMALE',\n",
       "       'female, she/her', 'mostly male', 'cisgender male', 'MAle',\n",
       "       'afab non-binary', 'MALE', 'male/he/him', 'homem cis',\n",
       "       'cis-het male', 'Non-binary/Agender'], dtype=object)"
      ]
     },
     "execution_count": 95,
     "metadata": {},
     "output_type": "execute_result"
    }
   ],
   "source": [
    "df_demographics_filtered[\"Gender\"].unique()"
   ]
  },
  {
   "cell_type": "code",
   "execution_count": 96,
   "id": "5eaea978",
   "metadata": {},
   "outputs": [],
   "source": [
    "replace_values = ['F', 'female', 'Female', 'Woman', 'femalw', 'femail', 'female (cis)','Female ','f','My sex is female.',\n",
    "                  'My sex is female', 'woman', 'female (cisgender)', 'Female (cis)','Female/gender non-binary.',\n",
    "                  'Genderqueer demigirl', 'cis-Female', 'cis female', 'F', 'Female (cis) ', 'cisgender',\n",
    "                  'born with xy chromosoms', 'I identify as female', 'Cis woman','Female/gender non-binary.'\n",
    "                  'Female (cisgender)', 'Cis-Female', 'Cisgendered woman', 'Trans woman',\n",
    "                  'She/her/they/them', 'cisgender female', 'cis woman', 'Agender trans woman',\n",
    "                  'femmina', 'Femile', 'Female (cis)', 'FEMALE', 'female, she/her']\n"
   ]
  },
  {
   "cell_type": "code",
   "execution_count": 97,
   "id": "1b3ebed5",
   "metadata": {
    "scrolled": true
   },
   "outputs": [
    {
     "data": {
      "text/plain": [
       "array(['Female', 'male', 'Male', 'M', 'Man', 'Genderfluid', 'Nonbinary',\n",
       "       'cis-male', 'Mail', 'cis hetero male', 'm', 'Male (cis)',\n",
       "       'uhhhhhhhhh fem genderqueer?', 'God King of the Valajar',\n",
       "       'Cis male', 'man', 'Non-binary', 'cis male ',\n",
       "       'Agender/genderfluid', 'Male ', 'sometimes', 'Contextual',\n",
       "       'Non binary', 'F, cisgender', '\\\\-', 'Transfeminine', 'Cis-male',\n",
       "       'Cis Male', 'dude', 'Ostensibly Male', 'Agender',\n",
       "       'male, born with xy chromosoms', 'Trans man', 'transgender',\n",
       "       'cis male', 'non binary', 'Female (cisgender)', 'genderfluid',\n",
       "       'Genderqueer', 'Demiguy', 'none', 'Trans female', 'Cisgender male',\n",
       "       'non-binary', 'Other', 'SWM', 'NB', 'gender non-conforming woman',\n",
       "       'Let\\'s keep it simple and say \"male\"', 'Identify as male',\n",
       "       'Masculine', 'Cishet male', 'agender', 'Questioning', '43',\n",
       "       'masculino', 'Make', 'Trans non-binary/genderfluid', 'CIS Male',\n",
       "       'Non-binary and gender fluid', 'mostly male', 'cisgender male',\n",
       "       'MAle', 'afab non-binary', 'MALE', 'male/he/him', 'homem cis',\n",
       "       'cis-het male', 'Non-binary/Agender'], dtype=object)"
      ]
     },
     "execution_count": 97,
     "metadata": {},
     "output_type": "execute_result"
    }
   ],
   "source": [
    "df_demographics_filtered.loc[:, \"Gender\"] = df_demographics_filtered[\"Gender\"].replace(replace_values, \"Female\")\n",
    "df_demographics_filtered[\"Gender\"].unique()"
   ]
  },
  {
   "cell_type": "code",
   "execution_count": 98,
   "id": "72b42785",
   "metadata": {},
   "outputs": [],
   "source": [
    "replace_values = ['male', 'Male', 'M', 'Man','cis-male', 'Mail', 'cis hetero male', 'm', 'Male (cis)','God King of the Valajar','male, born with xy chromosoms',\n",
    "       'Cis male', 'man','cis male ','Male ', 'Cis-male', 'Cis Male','dude', 'Ostensibly Male','male','cis male', 'Male','dude', 'Ostensibly Male','male','cis male','Cisgender male','Let\\'s keep it simple and say \"male\"','Identify as male','Masculine','Cishet male','mostly male', 'cisgender male',\n",
    "       'MAle','MALE', 'male/he/him','cis-het male']"
   ]
  },
  {
   "cell_type": "code",
   "execution_count": 100,
   "id": "f2d83439",
   "metadata": {},
   "outputs": [
    {
     "data": {
      "text/plain": [
       "array(['Female', 'Male', 'Genderfluid', 'Nonbinary',\n",
       "       'uhhhhhhhhh fem genderqueer?', 'Non-binary', 'Agender/genderfluid',\n",
       "       'sometimes', 'Contextual', 'Non binary', 'F, cisgender', '\\\\-',\n",
       "       'Transfeminine', 'Agender', 'Trans man', 'transgender',\n",
       "       'non binary', 'Female (cisgender)', 'genderfluid', 'Genderqueer',\n",
       "       'Demiguy', 'none', 'Trans female', 'non-binary', 'Other', 'SWM',\n",
       "       'NB', 'gender non-conforming woman', 'agender', 'Questioning',\n",
       "       '43', 'masculino', 'Make', 'Trans non-binary/genderfluid',\n",
       "       'CIS Male', 'Non-binary and gender fluid', 'afab non-binary',\n",
       "       'homem cis', 'Non-binary/Agender'], dtype=object)"
      ]
     },
     "execution_count": 100,
     "metadata": {},
     "output_type": "execute_result"
    }
   ],
   "source": [
    "df_demographics_filtered.loc[:, \"Gender\"] = df_demographics_filtered[\"Gender\"].replace(replace_values, \"Male\")\n",
    "df_demographics_filtered[\"Gender\"].unique()"
   ]
  },
  {
   "cell_type": "code",
   "execution_count": 105,
   "id": "d6a9a36f",
   "metadata": {},
   "outputs": [],
   "source": [
    "replace_values = ['Genderfluid','Nonbinary','uhhhhhhhhh fem genderqueer?','Non-binary','Agender/genderfluid','sometimes','Contextual',\n",
    "                  'Non binary','F','cisgender','Transfeminine', 'Agender', 'Trans man', 'transgender', 'Female (cisgender)',\n",
    "                  'Genderqueer', 'Demiguy', 'none', 'Trans female', 'Other', 'SWM', 'NB', 'gender non-conforming woman','Questioning',\n",
    "                  '43', 'masculino', 'Make', 'Trans non-binary/genderfluid', 'CIS Male', 'Non-binary and gender fluid', 'afab non-binary',\n",
    "                  'homem cis', 'Non-binary/Agender', 'F, cisgender', '\\\\-', 'non binary',\n",
    "       'genderfluid', 'non-binary', 'agender']"
   ]
  },
  {
   "cell_type": "code",
   "execution_count": 106,
   "id": "f675c601",
   "metadata": {},
   "outputs": [
    {
     "data": {
      "text/plain": [
       "array(['Female', 'Male', 'Other'], dtype=object)"
      ]
     },
     "execution_count": 106,
     "metadata": {},
     "output_type": "execute_result"
    }
   ],
   "source": [
    "df_demographics_filtered.loc[:, \"Gender\"] = df_demographics_filtered[\"Gender\"].replace(replace_values, \"Other\")\n",
    "df_demographics_filtered[\"Gender\"].unique()"
   ]
  },
  {
   "cell_type": "code",
   "execution_count": 77,
   "id": "b91874fc",
   "metadata": {},
   "outputs": [],
   "source": [
    "df_demographics_filtered.loc[ : \"Age\"] = df_demographics_filtered[df_demographics_filtered[\"Age\"] > 20]"
   ]
  },
  {
   "cell_type": "code",
   "execution_count": 115,
   "id": "12f55c79",
   "metadata": {},
   "outputs": [],
   "source": [
    "output_file_path = \"Output/df_demographics_filtered.csv\"\n"
   ]
  },
  {
   "cell_type": "code",
   "execution_count": 128,
   "id": "95c49e82",
   "metadata": {},
   "outputs": [],
   "source": [
    "df_demographics_filtered.to_csv(output_file_path, index=False)"
   ]
  },
  {
   "cell_type": "code",
   "execution_count": 118,
   "id": "3d781bd6",
   "metadata": {
    "scrolled": true
   },
   "outputs": [
    {
     "data": {
      "text/html": [
       "<div>\n",
       "<style scoped>\n",
       "    .dataframe tbody tr th:only-of-type {\n",
       "        vertical-align: middle;\n",
       "    }\n",
       "\n",
       "    .dataframe tbody tr th {\n",
       "        vertical-align: top;\n",
       "    }\n",
       "\n",
       "    .dataframe thead th {\n",
       "        text-align: right;\n",
       "    }\n",
       "</style>\n",
       "<table border=\"1\" class=\"dataframe\">\n",
       "  <thead>\n",
       "    <tr style=\"text-align: right;\">\n",
       "      <th></th>\n",
       "      <th>employer provided mental healthcare awareness</th>\n",
       "      <th>Gender</th>\n",
       "      <th>Age</th>\n",
       "      <th>Country of residence</th>\n",
       "      <th>year</th>\n",
       "    </tr>\n",
       "  </thead>\n",
       "  <tbody>\n",
       "    <tr>\n",
       "      <th>0</th>\n",
       "      <td>Yes</td>\n",
       "      <td>Female</td>\n",
       "      <td>27.0</td>\n",
       "      <td>United Kingdom</td>\n",
       "      <td>2017</td>\n",
       "    </tr>\n",
       "    <tr>\n",
       "      <th>1</th>\n",
       "      <td>Yes</td>\n",
       "      <td>Male</td>\n",
       "      <td>31.0</td>\n",
       "      <td>United Kingdom</td>\n",
       "      <td>2017</td>\n",
       "    </tr>\n",
       "    <tr>\n",
       "      <th>2</th>\n",
       "      <td>No</td>\n",
       "      <td>Male</td>\n",
       "      <td>36.0</td>\n",
       "      <td>United States of America</td>\n",
       "      <td>2017</td>\n",
       "    </tr>\n",
       "    <tr>\n",
       "      <th>3</th>\n",
       "      <td>Yes</td>\n",
       "      <td>Male</td>\n",
       "      <td>22.0</td>\n",
       "      <td>United States of America</td>\n",
       "      <td>2017</td>\n",
       "    </tr>\n",
       "    <tr>\n",
       "      <th>5</th>\n",
       "      <td>No</td>\n",
       "      <td>Male</td>\n",
       "      <td>30.0</td>\n",
       "      <td>United States of America</td>\n",
       "      <td>2017</td>\n",
       "    </tr>\n",
       "  </tbody>\n",
       "</table>\n",
       "</div>"
      ],
      "text/plain": [
       "  employer provided mental healthcare awareness  Gender   Age  \\\n",
       "0                                           Yes  Female  27.0   \n",
       "1                                           Yes    Male  31.0   \n",
       "2                                            No    Male  36.0   \n",
       "3                                           Yes    Male  22.0   \n",
       "5                                            No    Male  30.0   \n",
       "\n",
       "       Country of residence  year  \n",
       "0            United Kingdom  2017  \n",
       "1            United Kingdom  2017  \n",
       "2  United States of America  2017  \n",
       "3  United States of America  2017  \n",
       "5  United States of America  2017  "
      ]
     },
     "execution_count": 118,
     "metadata": {},
     "output_type": "execute_result"
    }
   ],
   "source": [
    "df_demographics_filtered.head()"
   ]
  },
  {
   "cell_type": "code",
   "execution_count": 133,
   "id": "217ee372",
   "metadata": {},
   "outputs": [
    {
     "data": {
      "text/plain": [
       "array(['Female', 'Male', 'Other'], dtype=object)"
      ]
     },
     "execution_count": 133,
     "metadata": {},
     "output_type": "execute_result"
    }
   ],
   "source": [
    "#x_axis = df_demographics_filtered['Gender'].unique.value_counts()\n",
    "#x_axis \n",
    "x_axis = df_demographics_filtered['Gender'].unique()\n",
    "y_axis = df_demographics_filtered.groupby(\"employer provided mental healthcare awareness\").value_counts()\n"
   ]
  },
  {
   "cell_type": "code",
   "execution_count": 138,
   "id": "50f790a2",
   "metadata": {},
   "outputs": [
    {
     "data": {
      "image/png": "[encoded data removed]",
      "text/plain": [
       "<Figure size 640x480 with 1 Axes>"
      ]
     },
     "metadata": {},
     "output_type": "display_data"
    }
   ],
   "source": [
    "grouped_data = df_demographics_filtered.groupby(['Gender', 'employer provided mental healthcare awareness']).size().unstack()\n",
    "grouped_data.plot(kind='bar', color=['lightcoral', 'skyblue'])\n",
    "plt.title('Distribution of Mental Healthcare Awareness by Gender')\n",
    "plt.xlabel('Gender')\n",
    "plt.ylabel('Count')\n",
    "plt.legend(title='Mental Healthcare Awareness', bbox_to_anchor=(1.05, 1), loc='upper left')\n",
    "plt.show()"
   ]
  }
 ],
 "metadata": {
  "kernelspec": {
   "display_name": "Python 3 (ipykernel)",
   "language": "python",
   "name": "python3"
  },
  "language_info": {
   "codemirror_mode": {
    "name": "ipython",
    "version": 3
   },
   "file_extension": ".py",
   "mimetype": "text/x-python",
   "name": "python",
   "nbconvert_exporter": "python",
   "pygments_lexer": "ipython3",
   "version": "3.11.5"
  }
 },
 "nbformat": 4,
 "nbformat_minor": 5
}
