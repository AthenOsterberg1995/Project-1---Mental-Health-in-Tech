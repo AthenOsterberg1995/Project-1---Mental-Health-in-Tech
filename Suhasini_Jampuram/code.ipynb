{
 "cells": [
  {
   "cell_type": "code",
   "execution_count": 58,
   "id": "ddab0290",
   "metadata": {},
   "outputs": [],
   "source": [
    "import pandas as pd\n",
    "from pathlib import Path\n",
    "import matplotlib.pyplot as plt"
   ]
  },
  {
   "cell_type": "code",
   "execution_count": 59,
   "id": "0a98a7d9",
   "metadata": {},
   "outputs": [],
   "source": [
    "csv_path = Path(\"../data_cleaning/OSMI_clean.csv\")"
   ]
  },
  {
   "cell_type": "code",
   "execution_count": 60,
   "id": "9328c9d8",
   "metadata": {},
   "outputs": [
    {
     "data": {
      "text/html": [
       "<div>\n",
       "<style scoped>\n",
       "    .dataframe tbody tr th:only-of-type {\n",
       "        vertical-align: middle;\n",
       "    }\n",
       "\n",
       "    .dataframe tbody tr th {\n",
       "        vertical-align: top;\n",
       "    }\n",
       "\n",
       "    .dataframe thead th {\n",
       "        text-align: right;\n",
       "    }\n",
       "</style>\n",
       "<table border=\"1\" class=\"dataframe\">\n",
       "  <thead>\n",
       "    <tr style=\"text-align: right;\">\n",
       "      <th></th>\n",
       "      <th>tech company</th>\n",
       "      <th>employer provided healthcare with mental benefits</th>\n",
       "      <th>employer provided mental healthcare awareness</th>\n",
       "      <th>current mental health disorder</th>\n",
       "      <th>mental health diagnosis</th>\n",
       "      <th>family history of mental illness</th>\n",
       "      <th>discussed personal mental health with employer</th>\n",
       "      <th>anonymity protected when using benefits</th>\n",
       "      <th>ease of asking for leave</th>\n",
       "      <th>comfortable discussing a mental health issue with direct supervisor(s)</th>\n",
       "      <th>comfortable discussing a mental health issue with coworkers</th>\n",
       "      <th>Number of employees</th>\n",
       "      <th>how well do you think the tech industry supports employees with mental health issues</th>\n",
       "      <th>observed or experienced an unsupportive or badly handled response to a mental health issue in your current or previous workplace?</th>\n",
       "      <th>observed or experienced supportive or well handled response to a mental health issue in your current or previous workplace</th>\n",
       "      <th>Age</th>\n",
       "      <th>Gender</th>\n",
       "      <th>Country of residence</th>\n",
       "      <th>Race</th>\n",
       "      <th>year</th>\n",
       "    </tr>\n",
       "  </thead>\n",
       "  <tbody>\n",
       "    <tr>\n",
       "      <th>0</th>\n",
       "      <td>1.0</td>\n",
       "      <td>No</td>\n",
       "      <td>Yes</td>\n",
       "      <td>Possibly</td>\n",
       "      <td>NaN</td>\n",
       "      <td>No</td>\n",
       "      <td>0.0</td>\n",
       "      <td>I don't know</td>\n",
       "      <td>I don't know</td>\n",
       "      <td>Yes</td>\n",
       "      <td>Yes</td>\n",
       "      <td>100-500</td>\n",
       "      <td>1.0</td>\n",
       "      <td>Yes, I experienced</td>\n",
       "      <td>Yes, I experienced</td>\n",
       "      <td>27.0</td>\n",
       "      <td>Female</td>\n",
       "      <td>United Kingdom</td>\n",
       "      <td>NaN</td>\n",
       "      <td>2017</td>\n",
       "    </tr>\n",
       "    <tr>\n",
       "      <th>1</th>\n",
       "      <td>1.0</td>\n",
       "      <td>Yes</td>\n",
       "      <td>Yes</td>\n",
       "      <td>Possibly</td>\n",
       "      <td>NaN</td>\n",
       "      <td>No</td>\n",
       "      <td>0.0</td>\n",
       "      <td>I don't know</td>\n",
       "      <td>I don't know</td>\n",
       "      <td>Maybe</td>\n",
       "      <td>Yes</td>\n",
       "      <td>100-500</td>\n",
       "      <td>2.0</td>\n",
       "      <td>Yes, I observed</td>\n",
       "      <td>Maybe/Not sure</td>\n",
       "      <td>31.0</td>\n",
       "      <td>male</td>\n",
       "      <td>United Kingdom</td>\n",
       "      <td>NaN</td>\n",
       "      <td>2017</td>\n",
       "    </tr>\n",
       "    <tr>\n",
       "      <th>2</th>\n",
       "      <td>1.0</td>\n",
       "      <td>I don't know</td>\n",
       "      <td>No</td>\n",
       "      <td>Yes</td>\n",
       "      <td>Yes</td>\n",
       "      <td>Yes</td>\n",
       "      <td>1.0</td>\n",
       "      <td>Yes</td>\n",
       "      <td>Difficult</td>\n",
       "      <td>Yes</td>\n",
       "      <td>Maybe</td>\n",
       "      <td>6-25</td>\n",
       "      <td>1.0</td>\n",
       "      <td>Yes, I experienced</td>\n",
       "      <td>Yes, I experienced</td>\n",
       "      <td>36.0</td>\n",
       "      <td>male</td>\n",
       "      <td>United States of America</td>\n",
       "      <td>White</td>\n",
       "      <td>2017</td>\n",
       "    </tr>\n",
       "    <tr>\n",
       "      <th>3</th>\n",
       "      <td>1.0</td>\n",
       "      <td>Yes</td>\n",
       "      <td>Yes</td>\n",
       "      <td>Yes</td>\n",
       "      <td>Yes</td>\n",
       "      <td>I don't know</td>\n",
       "      <td>1.0</td>\n",
       "      <td>Yes</td>\n",
       "      <td>Difficult</td>\n",
       "      <td>Yes</td>\n",
       "      <td>Yes</td>\n",
       "      <td>More than 1000</td>\n",
       "      <td>2.0</td>\n",
       "      <td>Maybe/Not sure</td>\n",
       "      <td>Maybe/Not sure</td>\n",
       "      <td>22.0</td>\n",
       "      <td>Male</td>\n",
       "      <td>United States of America</td>\n",
       "      <td>White</td>\n",
       "      <td>2017</td>\n",
       "    </tr>\n",
       "    <tr>\n",
       "      <th>4</th>\n",
       "      <td>NaN</td>\n",
       "      <td>NaN</td>\n",
       "      <td>NaN</td>\n",
       "      <td>No</td>\n",
       "      <td>NaN</td>\n",
       "      <td>Yes</td>\n",
       "      <td>NaN</td>\n",
       "      <td>NaN</td>\n",
       "      <td>NaN</td>\n",
       "      <td>NaN</td>\n",
       "      <td>NaN</td>\n",
       "      <td>NaN</td>\n",
       "      <td>1.0</td>\n",
       "      <td>No</td>\n",
       "      <td>Yes, I observed</td>\n",
       "      <td>52.0</td>\n",
       "      <td>female</td>\n",
       "      <td>United States of America</td>\n",
       "      <td>More than one of the above</td>\n",
       "      <td>2017</td>\n",
       "    </tr>\n",
       "  </tbody>\n",
       "</table>\n",
       "</div>"
      ],
      "text/plain": [
       "  tech company employer provided healthcare with mental benefits  \\\n",
       "0          1.0                                                No   \n",
       "1          1.0                                               Yes   \n",
       "2          1.0                                      I don't know   \n",
       "3          1.0                                               Yes   \n",
       "4          NaN                                               NaN   \n",
       "\n",
       "  employer provided mental healthcare awareness  \\\n",
       "0                                           Yes   \n",
       "1                                           Yes   \n",
       "2                                            No   \n",
       "3                                           Yes   \n",
       "4                                           NaN   \n",
       "\n",
       "  current mental health disorder mental health diagnosis  \\\n",
       "0                       Possibly                     NaN   \n",
       "1                       Possibly                     NaN   \n",
       "2                            Yes                     Yes   \n",
       "3                            Yes                     Yes   \n",
       "4                             No                     NaN   \n",
       "\n",
       "  family history of mental illness  \\\n",
       "0                               No   \n",
       "1                               No   \n",
       "2                              Yes   \n",
       "3                     I don't know   \n",
       "4                              Yes   \n",
       "\n",
       "  discussed personal mental health with employer  \\\n",
       "0                                            0.0   \n",
       "1                                            0.0   \n",
       "2                                            1.0   \n",
       "3                                            1.0   \n",
       "4                                            NaN   \n",
       "\n",
       "  anonymity protected when using benefits ease of asking for leave  \\\n",
       "0                            I don't know             I don't know   \n",
       "1                            I don't know             I don't know   \n",
       "2                                     Yes                Difficult   \n",
       "3                                     Yes                Difficult   \n",
       "4                                     NaN                      NaN   \n",
       "\n",
       "  comfortable discussing a mental health issue with direct supervisor(s)  \\\n",
       "0                                                Yes                       \n",
       "1                                              Maybe                       \n",
       "2                                                Yes                       \n",
       "3                                                Yes                       \n",
       "4                                                NaN                       \n",
       "\n",
       "  comfortable discussing a mental health issue with coworkers  \\\n",
       "0                                                Yes            \n",
       "1                                                Yes            \n",
       "2                                              Maybe            \n",
       "3                                                Yes            \n",
       "4                                                NaN            \n",
       "\n",
       "  Number of employees  \\\n",
       "0             100-500   \n",
       "1             100-500   \n",
       "2                6-25   \n",
       "3      More than 1000   \n",
       "4                 NaN   \n",
       "\n",
       "   how well do you think the tech industry supports employees with mental health issues  \\\n",
       "0                                                1.0                                      \n",
       "1                                                2.0                                      \n",
       "2                                                1.0                                      \n",
       "3                                                2.0                                      \n",
       "4                                                1.0                                      \n",
       "\n",
       "  observed or experienced an unsupportive or badly handled response to a mental health issue in your current or previous workplace?  \\\n",
       "0                                 Yes, I experienced                                                                                  \n",
       "1                                    Yes, I observed                                                                                  \n",
       "2                                 Yes, I experienced                                                                                  \n",
       "3                                     Maybe/Not sure                                                                                  \n",
       "4                                                 No                                                                                  \n",
       "\n",
       "  observed or experienced supportive or well handled response to a mental health issue in your current or previous workplace  \\\n",
       "0                                 Yes, I experienced                                                                           \n",
       "1                                     Maybe/Not sure                                                                           \n",
       "2                                 Yes, I experienced                                                                           \n",
       "3                                     Maybe/Not sure                                                                           \n",
       "4                                    Yes, I observed                                                                           \n",
       "\n",
       "    Age  Gender      Country of residence                        Race  year  \n",
       "0  27.0  Female            United Kingdom                         NaN  2017  \n",
       "1  31.0    male            United Kingdom                         NaN  2017  \n",
       "2  36.0    male  United States of America                       White  2017  \n",
       "3  22.0    Male  United States of America                       White  2017  \n",
       "4  52.0  female  United States of America  More than one of the above  2017  "
      ]
     },
     "execution_count": 60,
     "metadata": {},
     "output_type": "execute_result"
    }
   ],
   "source": [
    "df = pd.read_csv(csv_path)\n",
    "df.head()"
   ]
  },
  {
   "cell_type": "code",
   "execution_count": 61,
   "id": "fab64592",
   "metadata": {},
   "outputs": [
    {
     "data": {
      "text/html": [
       "<div>\n",
       "<style scoped>\n",
       "    .dataframe tbody tr th:only-of-type {\n",
       "        vertical-align: middle;\n",
       "    }\n",
       "\n",
       "    .dataframe tbody tr th {\n",
       "        vertical-align: top;\n",
       "    }\n",
       "\n",
       "    .dataframe thead th {\n",
       "        text-align: right;\n",
       "    }\n",
       "</style>\n",
       "<table border=\"1\" class=\"dataframe\">\n",
       "  <thead>\n",
       "    <tr style=\"text-align: right;\">\n",
       "      <th></th>\n",
       "      <th>employer provided mental healthcare awareness</th>\n",
       "      <th>Gender</th>\n",
       "      <th>Age</th>\n",
       "      <th>Country of residence</th>\n",
       "      <th>year</th>\n",
       "    </tr>\n",
       "  </thead>\n",
       "  <tbody>\n",
       "    <tr>\n",
       "      <th>0</th>\n",
       "      <td>Yes</td>\n",
       "      <td>Female</td>\n",
       "      <td>27.0</td>\n",
       "      <td>United Kingdom</td>\n",
       "      <td>2017</td>\n",
       "    </tr>\n",
       "    <tr>\n",
       "      <th>1</th>\n",
       "      <td>Yes</td>\n",
       "      <td>male</td>\n",
       "      <td>31.0</td>\n",
       "      <td>United Kingdom</td>\n",
       "      <td>2017</td>\n",
       "    </tr>\n",
       "    <tr>\n",
       "      <th>2</th>\n",
       "      <td>No</td>\n",
       "      <td>male</td>\n",
       "      <td>36.0</td>\n",
       "      <td>United States of America</td>\n",
       "      <td>2017</td>\n",
       "    </tr>\n",
       "    <tr>\n",
       "      <th>3</th>\n",
       "      <td>Yes</td>\n",
       "      <td>Male</td>\n",
       "      <td>22.0</td>\n",
       "      <td>United States of America</td>\n",
       "      <td>2017</td>\n",
       "    </tr>\n",
       "    <tr>\n",
       "      <th>4</th>\n",
       "      <td>NaN</td>\n",
       "      <td>female</td>\n",
       "      <td>52.0</td>\n",
       "      <td>United States of America</td>\n",
       "      <td>2017</td>\n",
       "    </tr>\n",
       "  </tbody>\n",
       "</table>\n",
       "</div>"
      ],
      "text/plain": [
       "  employer provided mental healthcare awareness  Gender   Age  \\\n",
       "0                                           Yes  Female  27.0   \n",
       "1                                           Yes    male  31.0   \n",
       "2                                            No    male  36.0   \n",
       "3                                           Yes    Male  22.0   \n",
       "4                                           NaN  female  52.0   \n",
       "\n",
       "       Country of residence  year  \n",
       "0            United Kingdom  2017  \n",
       "1            United Kingdom  2017  \n",
       "2  United States of America  2017  \n",
       "3  United States of America  2017  \n",
       "4  United States of America  2017  "
      ]
     },
     "execution_count": 61,
     "metadata": {},
     "output_type": "execute_result"
    }
   ],
   "source": [
    "df_demographics = df[[\"employer provided mental healthcare awareness\", \"Gender\", \"Age\", \"Country of residence\", \"year\"]]\n",
    "df_demographics.head()"
   ]
  },
  {
   "cell_type": "code",
   "execution_count": 62,
   "id": "70528728",
   "metadata": {},
   "outputs": [],
   "source": [
    "df_demographics_filtered = df_demographics.dropna()"
   ]
  },
  {
   "cell_type": "code",
   "execution_count": 63,
   "id": "669fb1f3",
   "metadata": {},
   "outputs": [
    {
     "data": {
      "text/plain": [
       "array(['Female', 'male', 'Male', 'F', 'M', 'female', 'Man', 'f',\n",
       "       'Genderfluid', 'Nonbinary', 'Female ', 'cis-male', 'Mail', 'Woman',\n",
       "       'cis hetero male', 'm', 'femalw', 'femail', 'Male (cis)',\n",
       "       'uhhhhhhhhh fem genderqueer?', 'female (cis)',\n",
       "       'God King of the Valajar', 'Cis male', 'man', 'My sex is female.',\n",
       "       'Non-binary', 'cis male ', 'Agender/genderfluid', 'Male ', 'woman',\n",
       "       'sometimes', 'female (cisgender)', 'Female (cis) ', 'Contextual',\n",
       "       'Non binary', 'Genderqueer demigirl', 'cis-Female', 'cis female',\n",
       "       'F, cisgender', '\\\\-', 'Transfeminine', 'Cis-male', 'Cis Male',\n",
       "       'dude', 'Ostensibly Male', 'Agender',\n",
       "       'male, born with xy chromosoms', 'I identify as female',\n",
       "       'Trans man', 'transgender', 'cis male', 'non binary',\n",
       "       'Female/gender non-binary.', 'Cis woman', 'Female (cisgender)',\n",
       "       'Cis-Female', 'Cisgendered woman', 'Trans woman', 'genderfluid',\n",
       "       'Genderqueer', 'Demiguy', 'none', 'Trans female', 'Cisgender male',\n",
       "       'non-binary', 'She/her/they/them', 'Other', 'SWM',\n",
       "       'cisgender female', 'NB', 'gender non-conforming woman',\n",
       "       'Let\\'s keep it simple and say \"male\"', 'Identify as male',\n",
       "       'Masculine', 'Cishet male', 'agender', 'Questioning', 'cis woman',\n",
       "       'Agender trans woman', 'femmina', '43', 'masculino', 'Make',\n",
       "       'Trans non-binary/genderfluid', 'CIS Male',\n",
       "       'Non-binary and gender fluid', 'Femile', 'Female (cis)', 'FEMALE',\n",
       "       'female, she/her', 'mostly male', 'cisgender male', 'MAle',\n",
       "       'afab non-binary', 'MALE', 'male/he/him', 'homem cis',\n",
       "       'cis-het male', 'Non-binary/Agender'], dtype=object)"
      ]
     },
     "execution_count": 63,
     "metadata": {},
     "output_type": "execute_result"
    }
   ],
   "source": [
    "df_demographics_filtered[\"Gender\"].unique()"
   ]
  },
  {
   "cell_type": "code",
   "execution_count": 64,
   "id": "5eaea978",
   "metadata": {},
   "outputs": [],
   "source": [
    "replace_values = ['F', 'female', 'Female', 'Woman', 'femalw', 'femail', 'female (cis)','Female ','f','My sex is female.',\n",
    "                  'My sex is female', 'woman', 'female (cisgender)', 'Female (cis)','Female/gender non-binary.',\n",
    "                  'Genderqueer demigirl', 'cis-Female', 'cis female', 'F', 'Female (cis) ', 'cisgender',\n",
    "                  'born with xy chromosoms', 'I identify as female', 'Cis woman','Female/gender non-binary.'\n",
    "                  'Female (cisgender)', 'Cis-Female', 'Cisgendered woman', 'Trans woman',\n",
    "                  'She/her/they/them', 'cisgender female', 'cis woman', 'Agender trans woman',\n",
    "                  'femmina', 'Femile', 'Female (cis)', 'FEMALE', 'female, she/her']\n"
   ]
  },
  {
   "cell_type": "code",
   "execution_count": 65,
   "id": "1b3ebed5",
   "metadata": {
    "scrolled": true
   },
   "outputs": [
    {
     "data": {
      "text/plain": [
       "array(['Female', 'male', 'Male', 'M', 'Man', 'Genderfluid', 'Nonbinary',\n",
       "       'cis-male', 'Mail', 'cis hetero male', 'm', 'Male (cis)',\n",
       "       'uhhhhhhhhh fem genderqueer?', 'God King of the Valajar',\n",
       "       'Cis male', 'man', 'Non-binary', 'cis male ',\n",
       "       'Agender/genderfluid', 'Male ', 'sometimes', 'Contextual',\n",
       "       'Non binary', 'F, cisgender', '\\\\-', 'Transfeminine', 'Cis-male',\n",
       "       'Cis Male', 'dude', 'Ostensibly Male', 'Agender',\n",
       "       'male, born with xy chromosoms', 'Trans man', 'transgender',\n",
       "       'cis male', 'non binary', 'Female (cisgender)', 'genderfluid',\n",
       "       'Genderqueer', 'Demiguy', 'none', 'Trans female', 'Cisgender male',\n",
       "       'non-binary', 'Other', 'SWM', 'NB', 'gender non-conforming woman',\n",
       "       'Let\\'s keep it simple and say \"male\"', 'Identify as male',\n",
       "       'Masculine', 'Cishet male', 'agender', 'Questioning', '43',\n",
       "       'masculino', 'Make', 'Trans non-binary/genderfluid', 'CIS Male',\n",
       "       'Non-binary and gender fluid', 'mostly male', 'cisgender male',\n",
       "       'MAle', 'afab non-binary', 'MALE', 'male/he/him', 'homem cis',\n",
       "       'cis-het male', 'Non-binary/Agender'], dtype=object)"
      ]
     },
     "execution_count": 65,
     "metadata": {},
     "output_type": "execute_result"
    }
   ],
   "source": [
    "df_demographics_filtered.loc[:, \"Gender\"] = df_demographics_filtered[\"Gender\"].replace(replace_values, \"Female\")\n",
    "df_demographics_filtered[\"Gender\"].unique()"
   ]
  },
  {
   "cell_type": "code",
   "execution_count": 66,
   "id": "b13fa9f2",
   "metadata": {},
   "outputs": [],
   "source": [
    "replace_values = ['male', 'Male', 'M', 'Man','cis-male', 'Mail', 'cis hetero male', 'm', 'Male (cis)','God King of the Valajar','male, born with xy chromosoms',\n",
    "       'Cis male', 'man','cis male ','Male ', 'Cis-male', 'Cis Male','dude', 'Ostensibly Male','male','cis male', 'Male','dude', 'Ostensibly Male','male','cis male','Cisgender male','Let\\'s keep it simple and say \"male\"','Identify as male','Masculine','Cishet male','mostly male', 'cisgender male',\n",
    "       'MAle','MALE', 'male/he/him','cis-het male']"
   ]
  },
  {
   "cell_type": "code",
   "execution_count": 67,
   "id": "44e1063d",
   "metadata": {},
   "outputs": [
    {
     "data": {
      "text/plain": [
       "array(['Female', 'Male', 'Genderfluid', 'Nonbinary',\n",
       "       'uhhhhhhhhh fem genderqueer?', 'Non-binary', 'Agender/genderfluid',\n",
       "       'sometimes', 'Contextual', 'Non binary', 'F, cisgender', '\\\\-',\n",
       "       'Transfeminine', 'Agender', 'Trans man', 'transgender',\n",
       "       'non binary', 'Female (cisgender)', 'genderfluid', 'Genderqueer',\n",
       "       'Demiguy', 'none', 'Trans female', 'non-binary', 'Other', 'SWM',\n",
       "       'NB', 'gender non-conforming woman', 'agender', 'Questioning',\n",
       "       '43', 'masculino', 'Make', 'Trans non-binary/genderfluid',\n",
       "       'CIS Male', 'Non-binary and gender fluid', 'afab non-binary',\n",
       "       'homem cis', 'Non-binary/Agender'], dtype=object)"
      ]
     },
     "execution_count": 67,
     "metadata": {},
     "output_type": "execute_result"
    }
   ],
   "source": [
    "df_demographics_filtered.loc[:, \"Gender\"] = df_demographics_filtered[\"Gender\"].replace(replace_values, \"Male\")\n",
    "df_demographics_filtered[\"Gender\"].unique()"
   ]
  },
  {
   "cell_type": "code",
   "execution_count": 68,
   "id": "3efb5f95",
   "metadata": {},
   "outputs": [],
   "source": [
    "replace_values = ['Genderfluid','Nonbinary','uhhhhhhhhh fem genderqueer?','Non-binary','Agender/genderfluid','sometimes','Contextual',\n",
    "                  'Non binary','F','cisgender','Transfeminine', 'Agender', 'Trans man', 'transgender', 'Female (cisgender)',\n",
    "                  'Genderqueer', 'Demiguy', 'none', 'Trans female', 'Other', 'SWM', 'NB', 'gender non-conforming woman','Questioning',\n",
    "                  '43', 'masculino', 'Make', 'Trans non-binary/genderfluid', 'CIS Male', 'Non-binary and gender fluid', 'afab non-binary',\n",
    "                  'homem cis', 'Non-binary/Agender', 'F, cisgender', '\\\\-', 'non binary',\n",
    "       'genderfluid', 'non-binary', 'agender']"
   ]
  },
  {
   "cell_type": "code",
   "execution_count": 69,
   "id": "9190b811",
   "metadata": {},
   "outputs": [
    {
     "data": {
      "text/plain": [
       "array(['Female', 'Male', 'Other'], dtype=object)"
      ]
     },
     "execution_count": 69,
     "metadata": {},
     "output_type": "execute_result"
    }
   ],
   "source": [
    "df_demographics_filtered.loc[:, \"Gender\"] = df_demographics_filtered[\"Gender\"].replace(replace_values, \"Other\")\n",
    "df_demographics_filtered[\"Gender\"].unique()"
   ]
  },
  {
   "cell_type": "code",
   "execution_count": 71,
   "id": "5f1ef914",
   "metadata": {},
   "outputs": [],
   "source": [
    "df_demographics_filtered.loc[ : \"Age\"] = df_demographics_filtered[df_demographics_filtered[\"Age\"] > 20]\n",
    "df_demographics_filtered_final = df_demographics_filtered.loc[ : \"Age\"]"
   ]
  },
  {
   "cell_type": "code",
   "execution_count": 72,
   "id": "a350ca55",
   "metadata": {},
   "outputs": [],
   "source": [
    "output_file_path = \"Output/df_demographics_filtered.csv\""
   ]
  },
  {
   "cell_type": "code",
   "execution_count": 73,
   "id": "dd386edb",
   "metadata": {},
   "outputs": [
    {
     "ename": "PermissionError",
     "evalue": "[Errno 13] Permission denied: 'Output/df_demographics_filtered.csv'",
     "output_type": "error",
     "traceback": [
      "\u001b[1;31m---------------------------------------------------------------------------\u001b[0m",
      "\u001b[1;31mPermissionError\u001b[0m                           Traceback (most recent call last)",
      "Cell \u001b[1;32mIn[73], line 1\u001b[0m\n\u001b[1;32m----> 1\u001b[0m df_demographics_filtered_final\u001b[38;5;241m.\u001b[39mto_csv(output_file_path, index\u001b[38;5;241m=\u001b[39m\u001b[38;5;28;01mFalse\u001b[39;00m)\n",
      "File \u001b[1;32m~\\anaconda3\\Lib\\site-packages\\pandas\\core\\generic.py:3902\u001b[0m, in \u001b[0;36mNDFrame.to_csv\u001b[1;34m(self, path_or_buf, sep, na_rep, float_format, columns, header, index, index_label, mode, encoding, compression, quoting, quotechar, lineterminator, chunksize, date_format, doublequote, escapechar, decimal, errors, storage_options)\u001b[0m\n\u001b[0;32m   3891\u001b[0m df \u001b[38;5;241m=\u001b[39m \u001b[38;5;28mself\u001b[39m \u001b[38;5;28;01mif\u001b[39;00m \u001b[38;5;28misinstance\u001b[39m(\u001b[38;5;28mself\u001b[39m, ABCDataFrame) \u001b[38;5;28;01melse\u001b[39;00m \u001b[38;5;28mself\u001b[39m\u001b[38;5;241m.\u001b[39mto_frame()\n\u001b[0;32m   3893\u001b[0m formatter \u001b[38;5;241m=\u001b[39m DataFrameFormatter(\n\u001b[0;32m   3894\u001b[0m     frame\u001b[38;5;241m=\u001b[39mdf,\n\u001b[0;32m   3895\u001b[0m     header\u001b[38;5;241m=\u001b[39mheader,\n\u001b[1;32m   (...)\u001b[0m\n\u001b[0;32m   3899\u001b[0m     decimal\u001b[38;5;241m=\u001b[39mdecimal,\n\u001b[0;32m   3900\u001b[0m )\n\u001b[1;32m-> 3902\u001b[0m \u001b[38;5;28;01mreturn\u001b[39;00m DataFrameRenderer(formatter)\u001b[38;5;241m.\u001b[39mto_csv(\n\u001b[0;32m   3903\u001b[0m     path_or_buf,\n\u001b[0;32m   3904\u001b[0m     lineterminator\u001b[38;5;241m=\u001b[39mlineterminator,\n\u001b[0;32m   3905\u001b[0m     sep\u001b[38;5;241m=\u001b[39msep,\n\u001b[0;32m   3906\u001b[0m     encoding\u001b[38;5;241m=\u001b[39mencoding,\n\u001b[0;32m   3907\u001b[0m     errors\u001b[38;5;241m=\u001b[39merrors,\n\u001b[0;32m   3908\u001b[0m     compression\u001b[38;5;241m=\u001b[39mcompression,\n\u001b[0;32m   3909\u001b[0m     quoting\u001b[38;5;241m=\u001b[39mquoting,\n\u001b[0;32m   3910\u001b[0m     columns\u001b[38;5;241m=\u001b[39mcolumns,\n\u001b[0;32m   3911\u001b[0m     index_label\u001b[38;5;241m=\u001b[39mindex_label,\n\u001b[0;32m   3912\u001b[0m     mode\u001b[38;5;241m=\u001b[39mmode,\n\u001b[0;32m   3913\u001b[0m     chunksize\u001b[38;5;241m=\u001b[39mchunksize,\n\u001b[0;32m   3914\u001b[0m     quotechar\u001b[38;5;241m=\u001b[39mquotechar,\n\u001b[0;32m   3915\u001b[0m     date_format\u001b[38;5;241m=\u001b[39mdate_format,\n\u001b[0;32m   3916\u001b[0m     doublequote\u001b[38;5;241m=\u001b[39mdoublequote,\n\u001b[0;32m   3917\u001b[0m     escapechar\u001b[38;5;241m=\u001b[39mescapechar,\n\u001b[0;32m   3918\u001b[0m     storage_options\u001b[38;5;241m=\u001b[39mstorage_options,\n\u001b[0;32m   3919\u001b[0m )\n",
      "File \u001b[1;32m~\\anaconda3\\Lib\\site-packages\\pandas\\io\\formats\\format.py:1152\u001b[0m, in \u001b[0;36mDataFrameRenderer.to_csv\u001b[1;34m(self, path_or_buf, encoding, sep, columns, index_label, mode, compression, quoting, quotechar, lineterminator, chunksize, date_format, doublequote, escapechar, errors, storage_options)\u001b[0m\n\u001b[0;32m   1131\u001b[0m     created_buffer \u001b[38;5;241m=\u001b[39m \u001b[38;5;28;01mFalse\u001b[39;00m\n\u001b[0;32m   1133\u001b[0m csv_formatter \u001b[38;5;241m=\u001b[39m CSVFormatter(\n\u001b[0;32m   1134\u001b[0m     path_or_buf\u001b[38;5;241m=\u001b[39mpath_or_buf,\n\u001b[0;32m   1135\u001b[0m     lineterminator\u001b[38;5;241m=\u001b[39mlineterminator,\n\u001b[1;32m   (...)\u001b[0m\n\u001b[0;32m   1150\u001b[0m     formatter\u001b[38;5;241m=\u001b[39m\u001b[38;5;28mself\u001b[39m\u001b[38;5;241m.\u001b[39mfmt,\n\u001b[0;32m   1151\u001b[0m )\n\u001b[1;32m-> 1152\u001b[0m csv_formatter\u001b[38;5;241m.\u001b[39msave()\n\u001b[0;32m   1154\u001b[0m \u001b[38;5;28;01mif\u001b[39;00m created_buffer:\n\u001b[0;32m   1155\u001b[0m     \u001b[38;5;28;01massert\u001b[39;00m \u001b[38;5;28misinstance\u001b[39m(path_or_buf, StringIO)\n",
      "File \u001b[1;32m~\\anaconda3\\Lib\\site-packages\\pandas\\io\\formats\\csvs.py:247\u001b[0m, in \u001b[0;36mCSVFormatter.save\u001b[1;34m(self)\u001b[0m\n\u001b[0;32m    243\u001b[0m \u001b[38;5;250m\u001b[39m\u001b[38;5;124;03m\"\"\"\u001b[39;00m\n\u001b[0;32m    244\u001b[0m \u001b[38;5;124;03mCreate the writer & save.\u001b[39;00m\n\u001b[0;32m    245\u001b[0m \u001b[38;5;124;03m\"\"\"\u001b[39;00m\n\u001b[0;32m    246\u001b[0m \u001b[38;5;66;03m# apply compression and byte/text conversion\u001b[39;00m\n\u001b[1;32m--> 247\u001b[0m \u001b[38;5;28;01mwith\u001b[39;00m get_handle(\n\u001b[0;32m    248\u001b[0m     \u001b[38;5;28mself\u001b[39m\u001b[38;5;241m.\u001b[39mfilepath_or_buffer,\n\u001b[0;32m    249\u001b[0m     \u001b[38;5;28mself\u001b[39m\u001b[38;5;241m.\u001b[39mmode,\n\u001b[0;32m    250\u001b[0m     encoding\u001b[38;5;241m=\u001b[39m\u001b[38;5;28mself\u001b[39m\u001b[38;5;241m.\u001b[39mencoding,\n\u001b[0;32m    251\u001b[0m     errors\u001b[38;5;241m=\u001b[39m\u001b[38;5;28mself\u001b[39m\u001b[38;5;241m.\u001b[39merrors,\n\u001b[0;32m    252\u001b[0m     compression\u001b[38;5;241m=\u001b[39m\u001b[38;5;28mself\u001b[39m\u001b[38;5;241m.\u001b[39mcompression,\n\u001b[0;32m    253\u001b[0m     storage_options\u001b[38;5;241m=\u001b[39m\u001b[38;5;28mself\u001b[39m\u001b[38;5;241m.\u001b[39mstorage_options,\n\u001b[0;32m    254\u001b[0m ) \u001b[38;5;28;01mas\u001b[39;00m handles:\n\u001b[0;32m    255\u001b[0m     \u001b[38;5;66;03m# Note: self.encoding is irrelevant here\u001b[39;00m\n\u001b[0;32m    256\u001b[0m     \u001b[38;5;28mself\u001b[39m\u001b[38;5;241m.\u001b[39mwriter \u001b[38;5;241m=\u001b[39m csvlib\u001b[38;5;241m.\u001b[39mwriter(\n\u001b[0;32m    257\u001b[0m         handles\u001b[38;5;241m.\u001b[39mhandle,\n\u001b[0;32m    258\u001b[0m         lineterminator\u001b[38;5;241m=\u001b[39m\u001b[38;5;28mself\u001b[39m\u001b[38;5;241m.\u001b[39mlineterminator,\n\u001b[1;32m   (...)\u001b[0m\n\u001b[0;32m    263\u001b[0m         quotechar\u001b[38;5;241m=\u001b[39m\u001b[38;5;28mself\u001b[39m\u001b[38;5;241m.\u001b[39mquotechar,\n\u001b[0;32m    264\u001b[0m     )\n\u001b[0;32m    266\u001b[0m     \u001b[38;5;28mself\u001b[39m\u001b[38;5;241m.\u001b[39m_save()\n",
      "File \u001b[1;32m~\\anaconda3\\Lib\\site-packages\\pandas\\io\\common.py:863\u001b[0m, in \u001b[0;36mget_handle\u001b[1;34m(path_or_buf, mode, encoding, compression, memory_map, is_text, errors, storage_options)\u001b[0m\n\u001b[0;32m    858\u001b[0m \u001b[38;5;28;01melif\u001b[39;00m \u001b[38;5;28misinstance\u001b[39m(handle, \u001b[38;5;28mstr\u001b[39m):\n\u001b[0;32m    859\u001b[0m     \u001b[38;5;66;03m# Check whether the filename is to be opened in binary mode.\u001b[39;00m\n\u001b[0;32m    860\u001b[0m     \u001b[38;5;66;03m# Binary mode does not support 'encoding' and 'newline'.\u001b[39;00m\n\u001b[0;32m    861\u001b[0m     \u001b[38;5;28;01mif\u001b[39;00m ioargs\u001b[38;5;241m.\u001b[39mencoding \u001b[38;5;129;01mand\u001b[39;00m \u001b[38;5;124m\"\u001b[39m\u001b[38;5;124mb\u001b[39m\u001b[38;5;124m\"\u001b[39m \u001b[38;5;129;01mnot\u001b[39;00m \u001b[38;5;129;01min\u001b[39;00m ioargs\u001b[38;5;241m.\u001b[39mmode:\n\u001b[0;32m    862\u001b[0m         \u001b[38;5;66;03m# Encoding\u001b[39;00m\n\u001b[1;32m--> 863\u001b[0m         handle \u001b[38;5;241m=\u001b[39m \u001b[38;5;28mopen\u001b[39m(\n\u001b[0;32m    864\u001b[0m             handle,\n\u001b[0;32m    865\u001b[0m             ioargs\u001b[38;5;241m.\u001b[39mmode,\n\u001b[0;32m    866\u001b[0m             encoding\u001b[38;5;241m=\u001b[39mioargs\u001b[38;5;241m.\u001b[39mencoding,\n\u001b[0;32m    867\u001b[0m             errors\u001b[38;5;241m=\u001b[39merrors,\n\u001b[0;32m    868\u001b[0m             newline\u001b[38;5;241m=\u001b[39m\u001b[38;5;124m\"\u001b[39m\u001b[38;5;124m\"\u001b[39m,\n\u001b[0;32m    869\u001b[0m         )\n\u001b[0;32m    870\u001b[0m     \u001b[38;5;28;01melse\u001b[39;00m:\n\u001b[0;32m    871\u001b[0m         \u001b[38;5;66;03m# Binary mode\u001b[39;00m\n\u001b[0;32m    872\u001b[0m         handle \u001b[38;5;241m=\u001b[39m \u001b[38;5;28mopen\u001b[39m(handle, ioargs\u001b[38;5;241m.\u001b[39mmode)\n",
      "\u001b[1;31mPermissionError\u001b[0m: [Errno 13] Permission denied: 'Output/df_demographics_filtered.csv'"
     ]
    }
   ],
   "source": [
    "df_demographics_filtered_final.to_csv(output_file_path, index=False)"
   ]
  },
  {
   "cell_type": "code",
   "execution_count": 74,
   "id": "89ebd23d",
   "metadata": {},
   "outputs": [
    {
     "data": {
      "image/png": "[encoded data removed]",
      "text/plain": [
       "<Figure size 640x480 with 1 Axes>"
      ]
     },
     "metadata": {},
     "output_type": "display_data"
    }
   ],
   "source": [
    "grouped_data = df_demographics_filtered_final.groupby(['Gender', 'employer provided mental healthcare awareness']).size().unstack()\n",
    "grouped_data.plot(kind='bar', color=['lightcoral', 'skyblue'])\n",
    "plt.title('Distribution of Mental Healthcare Awareness by Gender')\n",
    "plt.xlabel('Gender')\n",
    "plt.ylabel('Count')\n",
    "plt.legend(title='Mental Healthcare Awareness',loc='upper right')\n",
    "plt.show()"
   ]
  },
  {
   "cell_type": "code",
   "execution_count": 75,
   "id": "909d54b4",
   "metadata": {},
   "outputs": [
    {
     "data": {
      "text/html": [
       "<div>\n",
       "<style scoped>\n",
       "    .dataframe tbody tr th:only-of-type {\n",
       "        vertical-align: middle;\n",
       "    }\n",
       "\n",
       "    .dataframe tbody tr th {\n",
       "        vertical-align: top;\n",
       "    }\n",
       "\n",
       "    .dataframe thead th {\n",
       "        text-align: right;\n",
       "    }\n",
       "</style>\n",
       "<table border=\"1\" class=\"dataframe\">\n",
       "  <thead>\n",
       "    <tr style=\"text-align: right;\">\n",
       "      <th></th>\n",
       "      <th>employer provided mental healthcare awareness</th>\n",
       "      <th>Gender</th>\n",
       "      <th>Age</th>\n",
       "      <th>Country of residence</th>\n",
       "      <th>year</th>\n",
       "    </tr>\n",
       "  </thead>\n",
       "  <tbody>\n",
       "    <tr>\n",
       "      <th>0</th>\n",
       "      <td>Yes</td>\n",
       "      <td>Female</td>\n",
       "      <td>27.0</td>\n",
       "      <td>United Kingdom</td>\n",
       "      <td>2017.0</td>\n",
       "    </tr>\n",
       "    <tr>\n",
       "      <th>1</th>\n",
       "      <td>Yes</td>\n",
       "      <td>Male</td>\n",
       "      <td>31.0</td>\n",
       "      <td>United Kingdom</td>\n",
       "      <td>2017.0</td>\n",
       "    </tr>\n",
       "    <tr>\n",
       "      <th>2</th>\n",
       "      <td>No</td>\n",
       "      <td>Male</td>\n",
       "      <td>36.0</td>\n",
       "      <td>United States of America</td>\n",
       "      <td>2017.0</td>\n",
       "    </tr>\n",
       "    <tr>\n",
       "      <th>3</th>\n",
       "      <td>Yes</td>\n",
       "      <td>Male</td>\n",
       "      <td>22.0</td>\n",
       "      <td>United States of America</td>\n",
       "      <td>2017.0</td>\n",
       "    </tr>\n",
       "    <tr>\n",
       "      <th>5</th>\n",
       "      <td>No</td>\n",
       "      <td>Male</td>\n",
       "      <td>30.0</td>\n",
       "      <td>United States of America</td>\n",
       "      <td>2017.0</td>\n",
       "    </tr>\n",
       "  </tbody>\n",
       "</table>\n",
       "</div>"
      ],
      "text/plain": [
       "  employer provided mental healthcare awareness  Gender   Age  \\\n",
       "0                                           Yes  Female  27.0   \n",
       "1                                           Yes    Male  31.0   \n",
       "2                                            No    Male  36.0   \n",
       "3                                           Yes    Male  22.0   \n",
       "5                                            No    Male  30.0   \n",
       "\n",
       "       Country of residence    year  \n",
       "0            United Kingdom  2017.0  \n",
       "1            United Kingdom  2017.0  \n",
       "2  United States of America  2017.0  \n",
       "3  United States of America  2017.0  \n",
       "5  United States of America  2017.0  "
      ]
     },
     "execution_count": 75,
     "metadata": {},
     "output_type": "execute_result"
    }
   ],
   "source": [
    "df_demographics_filtered_final.head()"
   ]
  },
  {
   "cell_type": "code",
   "execution_count": 76,
   "id": "2e704cc9",
   "metadata": {},
   "outputs": [
    {
     "name": "stderr",
     "output_type": "stream",
     "text": [
      "C:\\Users\\skvar\\AppData\\Local\\Temp\\ipykernel_24872\\4097726893.py:2: SettingWithCopyWarning: \n",
      "A value is trying to be set on a copy of a slice from a DataFrame.\n",
      "Try using .loc[row_indexer,col_indexer] = value instead\n",
      "\n",
      "See the caveats in the documentation: https://pandas.pydata.org/pandas-docs/stable/user_guide/indexing.html#returning-a-view-versus-a-copy\n",
      "  df_demographics_filtered_final['Age Group'] = pd.cut(df_demographics_filtered_final['Age'], bins=age_bins)\n",
      "C:\\Users\\skvar\\AppData\\Local\\Temp\\ipykernel_24872\\4097726893.py:6: FutureWarning: The default of observed=False is deprecated and will be changed to True in a future version of pandas. Pass observed=False to retain current behavior or observed=True to adopt the future default and silence this warning.\n",
      "  df_grouped = df_demographics_filtered_final.groupby(['Age Group', 'employer provided mental healthcare awareness']).size().unstack()\n"
     ]
    },
    {
     "data": {
      "text/plain": [
       "<Figure size 1200x600 with 0 Axes>"
      ]
     },
     "metadata": {},
     "output_type": "display_data"
    },
    {
     "data": {
      "image/png": "[encoded data removed]",
      "text/plain": [
       "<Figure size 640x480 with 1 Axes>"
      ]
     },
     "metadata": {},
     "output_type": "display_data"
    }
   ],
   "source": [
    "age_bins = [20, 30, 40, 50, 60, 70]\n",
    "df_demographics_filtered_final['Age Group'] = pd.cut(df_demographics_filtered_final['Age'], bins=age_bins)\n",
    "\n",
    "#Chart plotting\n",
    "plt.figure(figsize=(12, 6))\n",
    "df_grouped = df_demographics_filtered_final.groupby(['Age Group', 'employer provided mental healthcare awareness']).size().unstack()\n",
    "df_grouped.plot(kind='bar', color=['lightcoral', 'skyblue'])\n",
    "plt.title('Employer Provided Mental Healthcare Awareness by Age Group')\n",
    "plt.xlabel('Age Group')\n",
    "plt.ylabel('Count')\n",
    "plt.legend(title='Mental Healthcare Awareness', loc='upper right')\n",
    "plt.show()"
   ]
  },
  {
   "cell_type": "code",
   "execution_count": 157,
   "id": "d7772e7e",
   "metadata": {},
   "outputs": [
    {
     "data": {
      "text/plain": [
       "<pandas.core.groupby.generic.DataFrameGroupBy object at 0x0000021EDC4CE710>"
      ]
     },
     "execution_count": 157,
     "metadata": {},
     "output_type": "execute_result"
    }
   ],
   "source": [
    "selected_columns = df_demographics_filtered_final[['employer provided mental healthcare awareness', 'Country of residence']]\n",
    "\n",
    "df_colums = pd.DataFrame(selected_columns)\n",
    "df_groupby = df_colums.groupby(['Country of residence', 'employer provided mental healthcare awareness'])\n",
    "df_groupby\n",
    "#Yes_values = df_colums[df_colums[\"employer provided mental healthcare awareness\"] == \"Yes\"]\n",
    "#df_yes = pd.DataFrame(Yes_values.value_counts())\n",
    "#df_yes\n",
    "#df_groupby = df.groupby('employer provided mental healthcare awareness')\n",
    "#df_modified = df_groupby.value_counts()\n",
    "#df_groupby\n",
    "#df_final = pd.DataFrame(df_modified)\n",
    "#df_final\n",
    "#Yes_df = df_final[df_final['employer provided mental healthcare awareness'] == 'Yes']\n"
   ]
  },
  {
   "cell_type": "code",
   "execution_count": null,
   "id": "a732ff16",
   "metadata": {},
   "outputs": [],
   "source": []
  },
  {
   "cell_type": "code",
   "execution_count": null,
   "id": "16a55735",
   "metadata": {},
   "outputs": [],
   "source": []
  },
  {
   "cell_type": "code",
   "execution_count": null,
   "id": "989be72c",
   "metadata": {},
   "outputs": [],
   "source": []
  }
 ],
 "metadata": {
  "kernelspec": {
   "display_name": "Python 3 (ipykernel)",
   "language": "python",
   "name": "python3"
  },
  "language_info": {
   "codemirror_mode": {
    "name": "ipython",
    "version": 3
   },
   "file_extension": ".py",
   "mimetype": "text/x-python",
   "name": "python",
   "nbconvert_exporter": "python",
   "pygments_lexer": "ipython3",
   "version": "3.11.5"
  }
 },
 "nbformat": 4,
 "nbformat_minor": 5
}
