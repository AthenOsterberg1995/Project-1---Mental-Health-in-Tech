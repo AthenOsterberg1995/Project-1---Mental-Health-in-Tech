{
 "cells": [
  {
   "cell_type": "markdown",
   "metadata": {},
   "source": [
    "# Cleaned and merged OSMI yearly data"
   ]
  },
  {
   "cell_type": "markdown",
   "metadata": {},
   "source": [
    "## Module and file imports"
   ]
  },
  {
   "cell_type": "code",
   "execution_count": 1,
   "metadata": {},
   "outputs": [],
   "source": [
    "import pandas as pd\n",
    "from IPython.display import display, HTML"
   ]
  },
  {
   "cell_type": "markdown",
   "metadata": {},
   "source": []
  },
  {
   "cell_type": "code",
   "execution_count": 2,
   "metadata": {},
   "outputs": [],
   "source": [
    "df_cleaned = pd.read_csv('../OSMI Raw Data/OSMI_merged.csv')\n",
    "df_2017 =    pd.read_csv('../OSMI Raw Data/OSMI_Mental_Health_in_Tech_Survey_2017.csv')\n",
    "df_2018 =    pd.read_csv('../OSMI Raw Data/OSMI_Mental_Health_in_Tech_Survey_2018.csv')\n",
    "df_2019 =    pd.read_csv('../OSMI Raw Data/OSMI_2019_Mental_Health_in_Tech_Survey_Results.csv')\n",
    "df_2020 =    pd.read_csv('../OSMI Raw Data/OSMI_2020_Mental_Health_in_Tech_Survey.csv')\n",
    "df_2021 =    pd.read_csv('../OSMI Raw Data/OSMI_2021_Mental_Health_in_Tech_Survey.csv')"
   ]
  },
  {
   "cell_type": "markdown",
   "metadata": {},
   "source": [
    "### Initial look at potential to merge automatedly\n",
    "\n",
    "Findings are that numerous column names vary slightly between years - manual renaming needed"
   ]
  },
  {
   "cell_type": "code",
   "execution_count": 3,
   "metadata": {},
   "outputs": [
    {
     "data": {
      "text/plain": [
       "1836"
      ]
     },
     "execution_count": 3,
     "metadata": {},
     "output_type": "execute_result"
    }
   ],
   "source": [
    "# Get the sum of rowsfrom yearly data\n",
    "total_row_length = sum(len(df) for df in [df_2017, df_2018, df_2019, df_2020, df_2021])\n",
    "total_row_length\n",
    "\n",
    "# compare to pre-merged"
   ]
  },
  {
   "cell_type": "code",
   "execution_count": 4,
   "metadata": {},
   "outputs": [
    {
     "data": {
      "text/plain": [
       "151"
      ]
     },
     "execution_count": 4,
     "metadata": {},
     "output_type": "execute_result"
    }
   ],
   "source": [
    "# Get the sum of unique columns from yearly data\n",
    "\n",
    "unique_columns = set()\n",
    "\n",
    "# Add unique columns from each DataFrame to the set\n",
    "for df in [df_2017, df_2018, df_2019, df_2020, df_2021]:\n",
    "    unique_columns.update(df.columns)\n",
    "\n",
    "total_unique_columns = len(unique_columns)\n",
    "\n",
    "total_unique_columns\n",
    "\n"
   ]
  },
  {
   "cell_type": "code",
   "execution_count": 5,
   "metadata": {},
   "outputs": [
    {
     "data": {
      "text/plain": [
       "58"
      ]
     },
     "execution_count": 5,
     "metadata": {},
     "output_type": "execute_result"
    }
   ],
   "source": [
    "common_columns = set(df_2017.columns)\n",
    "\n",
    "for df in [df_2018, df_2019, df_2020, df_2021]:\n",
    "    common_columns = common_columns.intersection(df.columns)\n",
    "\n",
    "total_common_columns = len(common_columns)\n",
    "total_common_columns"
   ]
  },
  {
   "cell_type": "markdown",
   "metadata": {},
   "source": [
    "## Prepping data sets for merge"
   ]
  },
  {
   "cell_type": "markdown",
   "metadata": {},
   "source": [
    "### 2017 column reduction and renaming"
   ]
  },
  {
   "cell_type": "code",
   "execution_count": 6,
   "metadata": {},
   "outputs": [
    {
     "data": {
      "text/plain": [
       "['#',\n",
       " '<strong>Are you self-employed?</strong>',\n",
       " 'How many employees does your company or organization have?',\n",
       " 'Is your employer primarily a tech company/organization?',\n",
       " 'Is your primary role within your company related to tech/IT?',\n",
       " 'Does your employer provide mental health benefits\\xa0as part of healthcare coverage?',\n",
       " 'Do you know the options for mental health care available under your employer-provided health coverage?',\n",
       " 'Has your employer ever formally discussed mental health (for example, as part of a wellness campaign or other official communication)?',\n",
       " 'Does your employer offer resources to learn more about mental health disorders and options for seeking help?',\n",
       " 'Is your anonymity protected if you choose to take advantage of mental health or substance abuse treatment resources provided by your employer?',\n",
       " 'If a mental health issue prompted you to request a medical leave from work, how easy or difficult would it be to ask for that leave?',\n",
       " 'Would you feel more comfortable talking to your coworkers about your physical health or your mental health?',\n",
       " 'Would you feel comfortable discussing a mental health issue with your direct supervisor(s)?',\n",
       " 'Have you ever discussed your mental health with your employer?',\n",
       " 'Describe the conversation you had with your employer about your mental health, including their reactions and what actions were taken to address your mental health issue/questions.',\n",
       " 'Would you feel comfortable discussing a mental health issue with your coworkers?',\n",
       " 'Have you ever discussed your mental health with coworkers?',\n",
       " 'Describe the conversation with coworkers you had about your mental health including their reactions.',\n",
       " \"Have you ever had a coworker discuss their or another coworker's mental health with you?\",\n",
       " 'Describe the conversation your coworker had with you about their mental health (please do not use names).',\n",
       " 'Overall, how much importance does your employer place on physical health?',\n",
       " 'Overall, how much importance does your employer place on mental health?',\n",
       " 'Do you have medical coverage (private insurance or state-provided) that includes treatment of mental health disorders?',\n",
       " 'Do you know local or online resources to seek help for a mental health issue?',\n",
       " '<strong>If you have been diagnosed or treated for a mental health disorder, do you ever reveal this to clients or business contacts?</strong>',\n",
       " 'If you have revealed a mental health disorder to a client or business contact, how has this affected you or the relationship?',\n",
       " '<strong>If you have been diagnosed or treated for a mental health disorder, do you ever reveal this to coworkers or employees?</strong>',\n",
       " 'If you have revealed a mental health disorder to a coworker or employee, how has this impacted you or the relationship?',\n",
       " 'Do you believe your productivity is ever affected by a mental health issue?',\n",
       " 'If yes, what percentage of your work time (time performing primary or secondary job functions) is affected by a mental health issue?',\n",
       " '<strong>Do you have previous employers?</strong>',\n",
       " 'Was your employer primarily a tech company/organization?',\n",
       " '<strong>Have your previous employers provided mental health benefits?</strong>',\n",
       " '<strong>Were you aware of the options for mental health care provided by your previous employers?</strong>',\n",
       " 'Did your previous employers ever formally discuss mental health (as part of a wellness campaign or other official communication)?',\n",
       " 'Did your previous employers provide resources to learn more about mental health disorders and how to seek help?',\n",
       " 'Was your anonymity protected if you chose to take advantage of mental health or substance abuse treatment resources with previous employers?',\n",
       " 'Would you have felt more comfortable talking to your previous employer about your physical health or your mental health?',\n",
       " 'Would you have been willing to discuss your mental health with your direct supervisor(s)?',\n",
       " 'Did you ever discuss your mental health with your previous employer?',\n",
       " 'Describe the conversation you had with your previous employer about your mental health, including their reactions and actions taken to address your mental health issue/questions.',\n",
       " '<strong>Would you have been willing to discuss your mental health with your coworkers at previous employers?</strong>',\n",
       " 'Did you ever discuss your mental health with a previous coworker(s)?',\n",
       " 'Describe the conversation you had with your previous coworkers about your mental health including their reactions.',\n",
       " \"Did you ever have a previous coworker discuss their or another coworker's mental health with you?\",\n",
       " 'Describe the conversation your coworker had with you about their mental health (please do not use names)..1',\n",
       " 'Overall, how much importance did your previous employer place on physical health?',\n",
       " 'Overall, how much importance did your previous employer place on mental health?',\n",
       " 'Do you currently have a mental health disorder?',\n",
       " 'Have you ever been diagnosed with a mental health disorder?',\n",
       " 'Anxiety Disorder (Generalized, Social, Phobia, etc)',\n",
       " 'Mood Disorder (Depression, Bipolar Disorder, etc)',\n",
       " 'Psychotic Disorder (Schizophrenia, Schizoaffective, etc)',\n",
       " 'Eating Disorder (Anorexia, Bulimia, etc)',\n",
       " 'Attention Deficit Hyperactivity Disorder',\n",
       " 'Personality Disorder (Borderline, Antisocial, Paranoid, etc)',\n",
       " 'Obsessive-Compulsive Disorder',\n",
       " 'Post-Traumatic Stress Disorder',\n",
       " 'Stress Response Syndromes',\n",
       " 'Dissociative Disorder',\n",
       " 'Substance Use Disorder',\n",
       " 'Addictive Disorder',\n",
       " 'Other',\n",
       " 'Anxiety Disorder (Generalized, Social, Phobia, etc).1',\n",
       " 'Mood Disorder (Depression, Bipolar Disorder, etc).1',\n",
       " 'Psychotic Disorder (Schizophrenia, Schizoaffective, etc).1',\n",
       " 'Eating Disorder (Anorexia, Bulimia, etc).1',\n",
       " 'Attention Deficit Hyperactivity Disorder.1',\n",
       " 'Personality Disorder (Borderline, Antisocial, Paranoid, etc).1',\n",
       " 'Obsessive-Compulsive Disorder.1',\n",
       " 'Post-traumatic Stress Disorder',\n",
       " 'Stress Response Syndromes.1',\n",
       " 'Dissociative Disorder.1',\n",
       " 'Substance Use Disorder.1',\n",
       " 'Addictive Disorder.1',\n",
       " 'Other.1',\n",
       " 'Anxiety Disorder (Generalized, Social, Phobia, etc).2',\n",
       " 'Mood Disorder (Depression, Bipolar Disorder, etc).2',\n",
       " 'Psychotic Disorder (Schizophrenia, Schizoaffective, etc).2',\n",
       " 'Eating Disorder (Anorexia, Bulimia, etc).2',\n",
       " 'Attention Deficit Hyperactivity Disorder.2',\n",
       " 'Personality Disorder (Borderline, Antisocial, Paranoid, etc).2',\n",
       " 'Obsessive-Compulsive Disorder.2',\n",
       " 'Post-traumatic Stress Disorder.1',\n",
       " 'Stress Response Syndromes.2',\n",
       " 'Dissociative Disorder.2',\n",
       " 'Substance Use Disorder.2',\n",
       " 'Addictive Disorder.2',\n",
       " 'Other.2',\n",
       " 'Have you had a mental health disorder in the past?',\n",
       " 'Have you ever sought treatment for a mental health disorder from a mental health professional?',\n",
       " 'Do you have a family history of mental illness?',\n",
       " 'If you have a mental health disorder, how often do you feel that it interferes with your work <strong>when being treated effectively?</strong>',\n",
       " 'If you have a mental health disorder, how often do you feel that it interferes with your work <strong>when <em>NOT</em> being treated effectively (i.e., when you are experiencing symptoms)?</strong>',\n",
       " 'Have your observations of how another individual who discussed a mental health issue made you less likely to reveal a mental health issue yourself in your current workplace?',\n",
       " 'How willing would you be to share with friends and family that you have a mental illness?',\n",
       " 'Would you be willing to bring up a physical health issue with a potential employer in an interview?',\n",
       " 'Why or why not?',\n",
       " 'Would you bring up your mental health with a potential employer in an interview?',\n",
       " 'Why or why not?.1',\n",
       " 'Are you openly identified at work as a person with a mental health issue?',\n",
       " 'Has being identified as a person with a mental health issue affected your career?',\n",
       " 'How has it affected your career?',\n",
       " 'If they knew you suffered from a mental health disorder,\\xa0how do you think that team members/co-workers would react?',\n",
       " '<strong>Have you observed or experienced an unsupportive or badly handled response to a mental health issue in your current or previous workplace?</strong>',\n",
       " 'Describe the circumstances of the badly handled or unsupportive response.',\n",
       " '<strong>Have you observed or experienced supportive or well handled response to a mental health issue in your current or previous workplace?</strong>',\n",
       " 'Describe the circumstances of the supportive or well handled response.',\n",
       " 'Overall, how well do you think the tech industry supports employees with mental health issues?',\n",
       " 'Briefly describe what you think the industry as a whole and/or employers could do to improve mental health support for employees.',\n",
       " 'If there is anything else you would like to tell us that has not been covered by the survey questions, please use this space to do so.',\n",
       " 'Would you be willing to talk to one of us more extensively about your experiences with mental health issues in the tech industry? (Note that all interview responses would be used <em>anonymously</em>\\xa0and only with your permission.)',\n",
       " 'What is your age?',\n",
       " 'What is your gender?',\n",
       " 'What country do you <strong>live</strong> in?',\n",
       " 'What US state or territory do you <strong>live</strong> in?',\n",
       " 'What is your race?',\n",
       " 'Other.3',\n",
       " 'What country do you <strong>work</strong> in?',\n",
       " 'What US state or territory do you <strong>work</strong> in?',\n",
       " 'Start Date (UTC)',\n",
       " 'Submit Date (UTC)',\n",
       " 'Network ID']"
      ]
     },
     "execution_count": 6,
     "metadata": {},
     "output_type": "execute_result"
    }
   ],
   "source": [
    "df_2017.columns.tolist()"
   ]
  },
  {
   "cell_type": "code",
   "execution_count": 7,
   "metadata": {},
   "outputs": [],
   "source": [
    "# Choosing 2017 columns\n",
    "df_2017_reduced = df_2017[[\n",
    "    'Is your employer primarily a tech company/organization?',\n",
    "    'Does your employer provide mental health benefits\\xa0as part of healthcare coverage?',\n",
    "    'Do you know the options for mental health care available under your employer-provided health coverage?',\n",
    "    'Do you currently have a mental health disorder?',\n",
    "    'Have you ever been diagnosed with a mental health disorder?',\n",
    "    'Do you have a family history of mental illness?',\n",
    "    'Have you ever discussed your mental health with your employer?',\n",
    "    'Is your anonymity protected if you choose to take advantage of mental health or substance abuse treatment resources provided by your employer?',\n",
    "    'If a mental health issue prompted you to request a medical leave from work, how easy or difficult would it be to ask for that leave?',\n",
    "    'Would you feel comfortable discussing a mental health issue with your direct supervisor(s)?',\n",
    "    'Would you feel comfortable discussing a mental health issue with your coworkers?',\n",
    "    'How many employees does your company or organization have?',\n",
    "    'Overall, how well do you think the tech industry supports employees with mental health issues?',\n",
    "    '<strong>Have you observed or experienced an unsupportive or badly handled response to a mental health issue in your current or previous workplace?</strong>',\n",
    "    '<strong>Have you observed or experienced supportive or well handled response to a mental health issue in your current or previous workplace?</strong>',\n",
    "    'What is your age?',\n",
    "    'What is your gender?',\n",
    "    'What country do you <strong>live</strong> in?',\n",
    "    'What is your race?',\n",
    "    ]]\n",
    "\n"
   ]
  },
  {
   "cell_type": "code",
   "execution_count": 8,
   "metadata": {},
   "outputs": [],
   "source": [
    "\n",
    "# Renaming 2017 columns\n",
    "df_2017_reduced = df_2017_reduced.rename(columns={\n",
    "    'Is your employer primarily a tech company/organization?': 'tech company',\n",
    "    'Does your employer provide mental health benefits\\xa0as part of healthcare coverage?': 'employer provided healthcare with mental benefits',\n",
    "    'Do you know the options for mental health care available under your employer-provided health coverage?': 'employer provided mental healthcare awareness',\n",
    "    'Do you currently have a mental health disorder?': 'current mental health disorder',\n",
    "    'Have you ever been diagnosed with a mental health disorder?': 'mental health diagnosis',\n",
    "    'Do you have a family history of mental illness?': 'family history of mental illness',\n",
    "    'Have you ever discussed your mental health with your employer?': 'discussed personal mental health with employer',\n",
    "    'Is your anonymity protected if you choose to take advantage of mental health or substance abuse treatment resources provided by your employer?': 'anonymity protected when using benefits',\n",
    "    'If a mental health issue prompted you to request a medical leave from work, how easy or difficult would it be to ask for that leave?': 'ease of asking for leave',\n",
    "    'Would you feel comfortable discussing a mental health issue with your direct supervisor(s)?': 'comfortable discussing a mental health issue with direct supervisor(s)',\n",
    "    'Would you feel comfortable discussing a mental health issue with your coworkers?': 'comfortable discussing a mental health issue with coworkers',\n",
    "    'How many employees does your company or organization have?': 'Number of employees',\n",
    "    'Overall, how well do you think the tech industry supports employees with mental health issues?': 'how well do you think the tech industry supports employees with mental health issues',\n",
    "    '<strong>Have you observed or experienced an unsupportive or badly handled response to a mental health issue in your current or previous workplace?</strong>': 'observed or experienced an unsupportive or badly handled response to a mental health issue in your current or previous workplace?',\n",
    "    '<strong>Have you observed or experienced supportive or well handled response to a mental health issue in your current or previous workplace?</strong>': 'observed or experienced supportive or well handled response to a mental health issue in your current or previous workplace',\n",
    "    'What is your age?': 'Age',\n",
    "    'What is your gender?': 'Gender',\n",
    "    'What country do you <strong>live</strong> in?': 'Country of residence',\n",
    "    'What is your race?': 'Race'\n",
    "})"
   ]
  },
  {
   "cell_type": "code",
   "execution_count": 9,
   "metadata": {},
   "outputs": [],
   "source": [
    "# add year\n",
    "df_2017_reduced['year'] = 2017"
   ]
  },
  {
   "cell_type": "markdown",
   "metadata": {},
   "source": [
    "### 2018"
   ]
  },
  {
   "cell_type": "code",
   "execution_count": 10,
   "metadata": {},
   "outputs": [],
   "source": [
    "# Choosing 2018 columns\n",
    "df_2018_reduced = df_2018[[\n",
    "    'Is your employer primarily a tech company/organization?',\n",
    "    'Does your employer provide mental health benefits as part of healthcare coverage?',\n",
    "    'Do you know the options for mental health care available under your employer-provided health coverage?',\n",
    "    'Do you currently have a mental health disorder?',\n",
    "    'Have you ever been diagnosed with a mental health disorder?',\n",
    "    'Do you have a family history of mental illness?',\n",
    "    'Have you ever discussed your mental health with your employer?',\n",
    "    'Is your anonymity protected if you choose to take advantage of mental health or substance abuse treatment resources provided by your employer?',\n",
    "    'If a mental health issue prompted you to request a medical leave from work, how easy or difficult would it be to ask for that leave?',\n",
    "    'Would you feel comfortable discussing a mental health issue with your direct supervisor(s)?',\n",
    "    'Would you feel comfortable discussing a mental health issue with your coworkers?',\n",
    "    'How many employees does your company or organization have?',\n",
    "    'Overall, how well do you think the tech industry supports employees with mental health issues?',\n",
    "    '<strong>Have you observed or experienced an unsupportive or badly handled response to a mental health issue in your current or previous workplace?</strong>',\n",
    "    '<strong>Have you observed or experienced supportive or well handled response to a mental health issue in your current or previous workplace?</strong>',\n",
    "    'What is your age?',\n",
    "    'What is your gender?',\n",
    "    'What country do you <strong>live</strong> in?',\n",
    "    'What is your race?',\n",
    "    ]]\n"
   ]
  },
  {
   "cell_type": "code",
   "execution_count": 11,
   "metadata": {},
   "outputs": [],
   "source": [
    "df_2018_reduced = df_2018_reduced.rename(columns={\n",
    "    'Is your employer primarily a tech company/organization?': 'tech company',\n",
    "    'Does your employer provide mental health benefits as part of healthcare coverage?': 'employer provided healthcare with mental benefits',\n",
    "    'Do you know the options for mental health care available under your employer-provided health coverage?': 'employer provided mental healthcare awareness',\n",
    "    'Do you currently have a mental health disorder?': 'current mental health disorder',\n",
    "    'Have you ever been diagnosed with a mental health disorder?': 'mental health diagnosis',\n",
    "    'Do you have a family history of mental illness?': 'family history of mental illness',\n",
    "    'Have you ever discussed your mental health with your employer?': 'discussed personal mental health with employer',\n",
    "    'Is your anonymity protected if you choose to take advantage of mental health or substance abuse treatment resources provided by your employer?': 'anonymity protected when using benefits',\n",
    "    'If a mental health issue prompted you to request a medical leave from work, how easy or difficult would it be to ask for that leave?': 'ease of asking for leave',\n",
    "    'Would you feel comfortable discussing a mental health issue with your direct supervisor(s)?': 'comfortable discussing a mental health issue with direct supervisor(s)',\n",
    "    'Would you feel comfortable discussing a mental health issue with your coworkers?': 'comfortable discussing a mental health issue with coworkers',\n",
    "    'How many employees does your company or organization have?': 'Number of employees',\n",
    "    'Overall, how well do you think the tech industry supports employees with mental health issues?': 'how well do you think the tech industry supports employees with mental health issues',\n",
    "    '<strong>Have you observed or experienced an unsupportive or badly handled response to a mental health issue in your current or previous workplace?</strong>': 'observed or experienced an unsupportive or badly handled response to a mental health issue in your current or previous workplace?',\n",
    "    '<strong>Have you observed or experienced supportive or well handled response to a mental health issue in your current or previous workplace?</strong>': 'observed or experienced supportive or well handled response to a mental health issue in your current or previous workplace',\n",
    "    'What is your age?': 'Age',\n",
    "    'What is your gender?': 'Gender',\n",
    "    'What country do you <strong>live</strong> in?': 'Country of residence',\n",
    "    'What is your race?': 'Race'\n",
    "    })"
   ]
  },
  {
   "cell_type": "code",
   "execution_count": 12,
   "metadata": {},
   "outputs": [],
   "source": [
    "df_2018_reduced['year'] = 2018"
   ]
  },
  {
   "cell_type": "markdown",
   "metadata": {},
   "source": [
    "### 2019"
   ]
  },
  {
   "cell_type": "code",
   "execution_count": 13,
   "metadata": {},
   "outputs": [],
   "source": [
    "# Choosing 2019 columns !!! NO DATE INFO (perhaps add year and clean other years to just year)\n",
    "df_2019_reduced = df_2019[[\n",
    "    'Is your employer primarily a tech company/organization?',\n",
    "    'Does your employer provide mental health benefits as part of healthcare coverage?',\n",
    "    'Do you know the options for mental health care available under your employer-provided health coverage?',\n",
    "    'Do you *currently* have a mental health disorder?',\n",
    "    'Have you ever been *diagnosed* with a mental health disorder?',\n",
    "    'Do you have a family history of mental illness?',\n",
    "    'Have you ever discussed your mental health with your employer?',\n",
    "    'Is your anonymity protected if you choose to take advantage of mental health or substance abuse treatment resources provided by your employer?',\n",
    "    'If a mental health issue prompted you to request a medical leave from work, how easy or difficult would it be to ask for that leave?',\n",
    "    'Would you feel comfortable discussing a mental health issue with your direct supervisor(s)?',\n",
    "    'Would you feel comfortable discussing a mental health issue with your coworkers?',\n",
    "    'How many employees does your company or organization have?',\n",
    "    'Overall, how well do you think the tech industry supports employees with mental health issues?',\n",
    "    'Have you observed or experienced an *unsupportive or badly handled response* to a mental health issue in your current or previous workplace?',\n",
    "    'Have you observed or experienced a *supportive or well handled response* to a mental health issue in your current or previous workplace?',\n",
    "    'What is your age?',\n",
    "    'What is your gender?',\n",
    "    'What country do you *live* in?',\n",
    "    'What is your race?',\n",
    "    ]]"
   ]
  },
  {
   "cell_type": "code",
   "execution_count": 14,
   "metadata": {},
   "outputs": [],
   "source": [
    "df_2019_reduced = df_2019_reduced.rename(columns={\n",
    "    'Is your employer primarily a tech company/organization?': 'tech company',\n",
    "    'Does your employer provide mental health benefits as part of healthcare coverage?': 'employer provided healthcare with mental benefits',\n",
    "    'Do you know the options for mental health care available under your employer-provided health coverage?': 'employer provided mental healthcare awareness',\n",
    "    'Do you currently have a mental health disorder?': 'current mental health disorder',\n",
    "    'Have you ever been diagnosed with a mental health disorder?': 'mental health diagnosis',\n",
    "    'Do you have a family history of mental illness?': 'family history of mental illness',\n",
    "    'Have you ever discussed your mental health with your employer?': 'discussed personal mental health with employer',\n",
    "    'Is your anonymity protected if you choose to take advantage of mental health or substance abuse treatment resources provided by your employer?': 'anonymity protected when using benefits',\n",
    "    'If a mental health issue prompted you to request a medical leave from work, how easy or difficult would it be to ask for that leave?': 'ease of asking for leave',\n",
    "    'Would you feel comfortable discussing a mental health issue with your direct supervisor(s)?': 'comfortable discussing a mental health issue with direct supervisor(s)',\n",
    "    'Would you feel comfortable discussing a mental health issue with your coworkers?': 'comfortable discussing a mental health issue with coworkers',\n",
    "    'How many employees does your company or organization have?': 'Number of employees',\n",
    "    'Overall, how well do you think the tech industry supports employees with mental health issues?': 'how well do you think the tech industry supports employees with mental health issues',\n",
    "    '<strong>Have you observed or experienced an unsupportive or badly handled response to a mental health issue in your current or previous workplace?</strong>': 'observed or experienced an unsupportive or badly handled response to a mental health issue in your current or previous workplace?',\n",
    "    '<strong>Have you observed or experienced supportive or well handled response to a mental health issue in your current or previous workplace?</strong>': 'observed or experienced supportive or well handled response to a mental health issue in your current or previous workplace',\n",
    "    'What is your age?': 'Age',\n",
    "    'What is your gender?': 'Gender',\n",
    "    'What country do you <strong>live</strong> in?': 'Country of residence',\n",
    "    'What is your race?': 'Race'\n",
    "    })"
   ]
  },
  {
   "cell_type": "code",
   "execution_count": 15,
   "metadata": {},
   "outputs": [],
   "source": [
    "df_2019_reduced['year'] = 2019"
   ]
  },
  {
   "cell_type": "markdown",
   "metadata": {},
   "source": [
    "### 2020"
   ]
  },
  {
   "cell_type": "code",
   "execution_count": 16,
   "metadata": {},
   "outputs": [],
   "source": [
    "# choosing 2020 columns\n",
    "df_2020_reduced = df_2020[[\n",
    "    'Is your employer primarily a tech company/organization?',\n",
    "    'Does your employer provide mental health benefits as part of healthcare coverage?',\n",
    "    'Do you know the options for mental health care available under your employer-provided health coverage?',\n",
    "     'Do you *currently* have a mental health disorder?',\n",
    "     'Have you ever been *diagnosed* with a mental health disorder?',\n",
    "    'Do you have a family history of mental illness?',\n",
    "    'Have you ever discussed your mental health with your employer?',\n",
    "    'Is your anonymity protected if you choose to take advantage of mental health or substance abuse treatment resources provided by your employer?',\n",
    "    'If a mental health issue prompted you to request a medical leave from work, how easy or difficult would it be to ask for that leave?',\n",
    "    'Would you feel comfortable discussing a mental health issue with your direct supervisor(s)?',\n",
    "    'Would you feel comfortable discussing a mental health issue with your coworkers?',\n",
    "    'How many employees does your company or organization have?',\n",
    "    'Overall, how well do you think the tech industry supports employees with mental health issues?',\n",
    "    'Have you observed or experienced an *unsupportive or badly handled response* to a mental health issue in your current or previous workplace?',\n",
    "    'Have you observed or experienced a *supportive or well handled response* to a mental health issue in your current or previous workplace?',\n",
    "    'What is your age?',\n",
    "    'What is your gender?',\n",
    "    'What country do you *live* in?',\n",
    "    'What is your race?',\n",
    "    ]]"
   ]
  },
  {
   "cell_type": "code",
   "execution_count": 17,
   "metadata": {},
   "outputs": [],
   "source": [
    "df_2020_reduced = df_2020_reduced.rename(columns={\n",
    "    'Is your employer primarily a tech company/organization?': 'tech company',\n",
    "    'Does your employer provide mental health benefits as part of healthcare coverage?': 'employer provided healthcare with mental benefits',\n",
    "    'Do you know the options for mental health care available under your employer-provided health coverage?': 'employer provided mental healthcare awareness',\n",
    "    'Do you *currently* have a mental health disorder?': 'current mental health disorder',\n",
    "    'Have you ever been *diagnosed* with a mental health disorder?': 'mental health diagnosis',\n",
    "    'Do you have a family history of mental illness?': 'family history of mental illness',\n",
    "    'Have you ever discussed your mental health with your employer?': 'discussed personal mental health with employer',\n",
    "    'Is your anonymity protected if you choose to take advantage of mental health or substance abuse treatment resources provided by your employer?': 'anonymity protected when using benefits',\n",
    "    'If a mental health issue prompted you to request a medical leave from work, how easy or difficult would it be to ask for that leave?': 'ease of asking for leave',\n",
    "    'Would you feel comfortable discussing a mental health issue with your direct supervisor(s)?': 'comfortable discussing a mental health issue with direct supervisor(s)',\n",
    "    'Would you feel comfortable discussing a mental health issue with your coworkers?': 'comfortable discussing a mental health issue with coworkers',\n",
    "    'How many employees does your company or organization have?': 'Number of employees',\n",
    "    'Overall, how well do you think the tech industry supports employees with mental health issues?': 'how well do you think the tech industry supports employees with mental health issues',\n",
    "    'Have you observed or experienced an *unsupportive or badly handled response* to a mental health issue in your current or previous workplace?': 'observed or experienced an unsupportive or badly handled response to a mental health issue in your current or previous workplace?',\n",
    "    'Have you observed or experienced a *supportive or well handled response* to a mental health issue in your current or previous workplace?': 'observed or experienced supportive or well handled response to a mental health issue in your current or previous workplace',\n",
    "    'What is your age?': 'Age',\n",
    "    'What is your gender?': 'Gender',\n",
    "    'What country do you *live* in?': 'Country of residence',\n",
    "    'What is your race?': 'Race'\n",
    "    })"
   ]
  },
  {
   "cell_type": "code",
   "execution_count": 18,
   "metadata": {},
   "outputs": [],
   "source": [
    "df_2020_reduced['year'] = 2020"
   ]
  },
  {
   "cell_type": "markdown",
   "metadata": {},
   "source": [
    "### 2021"
   ]
  },
  {
   "cell_type": "code",
   "execution_count": 19,
   "metadata": {},
   "outputs": [],
   "source": [
    "df_2021_reduced = df_2021[[\n",
    "    'Is your employer primarily a tech company/organization?',\n",
    "    'Does your employer provide mental health benefits as part of healthcare coverage?',\n",
    "    'Do you know the options for mental health care available under your employer-provided health coverage?',\n",
    "    'Do you *currently* have a mental health disorder?',\n",
    "    'Have you ever been *diagnosed* with a mental health disorder?',\n",
    "    'Do you have a family history of mental illness?',\n",
    "    'Have you ever discussed your mental health with your employer?',\n",
    "    'Is your anonymity protected if you choose to take advantage of mental health or substance abuse treatment resources provided by your employer?',\n",
    "    'If a mental health issue prompted you to request a medical leave from work, how easy or difficult would it be to ask for that leave?',\n",
    "    'Would you feel comfortable discussing a mental health issue with your direct supervisor(s)?',\n",
    "    'Would you feel comfortable discussing a mental health issue with your coworkers?',\n",
    "    'How many employees does your company or organization have?',\n",
    "    'Overall, how well do you think the tech industry supports employees with mental health issues?',\n",
    "    'Have you observed or experienced an *unsupportive or badly handled response* to a mental health issue in your current or previous workplace?',\n",
    "    'Have you observed or experienced a *supportive or well handled response* to a mental health issue in your current or previous workplace?',\n",
    "    'What is your age?',\n",
    "    'What is your gender?',\n",
    "    'What country do you *live* in?',\n",
    "    'What is your race?',\n",
    "    ]]"
   ]
  },
  {
   "cell_type": "code",
   "execution_count": 20,
   "metadata": {},
   "outputs": [],
   "source": [
    "df_2021_reduced = df_2021_reduced.rename(columns={\n",
    "    'Is your employer primarily a tech company/organization?': 'tech company',\n",
    "    'Does your employer provide mental health benefits as part of healthcare coverage?': 'employer provided healthcare with mental benefits',\n",
    "    'Do you know the options for mental health care available under your employer-provided health coverage?': 'employer provided mental healthcare awareness',\n",
    "    'Do you *currently* have a mental health disorder?': 'current mental health disorder',\n",
    "    'Have you ever been *diagnosed* with a mental health disorder?': 'mental health diagnosis',\n",
    "    'Do you have a family history of mental illness?': 'family history of mental illness',\n",
    "    'Have you ever discussed your mental health with your employer?': 'discussed personal mental health with employer',\n",
    "    'Is your anonymity protected if you choose to take advantage of mental health or substance abuse treatment resources provided by your employer?': 'anonymity protected when using benefits',\n",
    "    'If a mental health issue prompted you to request a medical leave from work, how easy or difficult would it be to ask for that leave?': 'ease of asking for leave',\n",
    "    'Would you feel comfortable discussing a mental health issue with your direct supervisor(s)?': 'comfortable discussing a mental health issue with direct supervisor(s)',\n",
    "    'Would you feel comfortable discussing a mental health issue with your coworkers?': 'comfortable discussing a mental health issue with coworkers',\n",
    "    'How many employees does your company or organization have?': 'Number of employees',\n",
    "    'Overall, how well do you think the tech industry supports employees with mental health issues?': 'how well do you think the tech industry supports employees with mental health issues',\n",
    "    'Have you observed or experienced an *unsupportive or badly handled response* to a mental health issue in your current or previous workplace?': 'observed or experienced an unsupportive or badly handled response to a mental health issue in your current or previous workplace?',\n",
    "    'Have you observed or experienced a *supportive or well handled response* to a mental health issue in your current or previous workplace?': 'observed or experienced supportive or well handled response to a mental health issue in your current or previous workplace',\n",
    "    'What is your age?': 'Age',\n",
    "    'What is your gender?': 'Gender',\n",
    "    'What country do you *live* in?': 'Country of residence',\n",
    "    'What is your race?': 'Race'\n",
    "    })"
   ]
  },
  {
   "cell_type": "code",
   "execution_count": 21,
   "metadata": {},
   "outputs": [],
   "source": [
    "df_2021_reduced['year'] = 2021"
   ]
  },
  {
   "cell_type": "code",
   "execution_count": 22,
   "metadata": {},
   "outputs": [],
   "source": [
    "merged_df = df_2017_reduced.merge(df_2018_reduced, how='outer').merge(df_2020_reduced, how='outer').merge(df_2021_reduced, how='outer')\n",
    "# MISSING 2019, column renaming may need to change (19 columns)"
   ]
  },
  {
   "cell_type": "code",
   "execution_count": 23,
   "metadata": {},
   "outputs": [
    {
     "data": {
      "text/plain": [
       "['tech company',\n",
       " 'employer provided healthcare with mental benefits',\n",
       " 'employer provided mental healthcare awareness',\n",
       " 'current mental health disorder',\n",
       " 'mental health diagnosis',\n",
       " 'family history of mental illness',\n",
       " 'discussed personal mental health with employer',\n",
       " 'anonymity protected when using benefits',\n",
       " 'ease of asking for leave',\n",
       " 'comfortable discussing a mental health issue with direct supervisor(s)',\n",
       " 'comfortable discussing a mental health issue with coworkers',\n",
       " 'Number of employees',\n",
       " 'how well do you think the tech industry supports employees with mental health issues',\n",
       " 'observed or experienced an unsupportive or badly handled response to a mental health issue in your current or previous workplace?',\n",
       " 'observed or experienced supportive or well handled response to a mental health issue in your current or previous workplace',\n",
       " 'Age',\n",
       " 'Gender',\n",
       " 'Country of residence',\n",
       " 'Race',\n",
       " 'year']"
      ]
     },
     "execution_count": 23,
     "metadata": {},
     "output_type": "execute_result"
    }
   ],
   "source": [
    "merged_df.columns.tolist()"
   ]
  },
  {
   "cell_type": "code",
   "execution_count": 40,
   "metadata": {},
   "outputs": [],
   "source": [
    "csv_file_path = (\"OSMI_clean.csv\")\n",
    "merged_df.to_csv(csv_file_path, index=False)"
   ]
  },
  {
   "cell_type": "code",
   "execution_count": null,
   "metadata": {},
   "outputs": [],
   "source": []
  }
 ],
 "metadata": {
  "kernelspec": {
   "display_name": "dev",
   "language": "python",
   "name": "python3"
  },
  "language_info": {
   "codemirror_mode": {
    "name": "ipython",
    "version": 3
   },
   "file_extension": ".py",
   "mimetype": "text/x-python",
   "name": "python",
   "nbconvert_exporter": "python",
   "pygments_lexer": "ipython3",
   "version": "3.10.13"
  }
 },
 "nbformat": 4,
 "nbformat_minor": 2
}
