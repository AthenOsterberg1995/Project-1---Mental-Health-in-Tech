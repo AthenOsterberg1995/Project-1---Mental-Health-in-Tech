{
 "cells": [
  {
   "cell_type": "markdown",
   "metadata": {},
   "source": [
    "# Cleaned and merged OSMI yearly data"
   ]
  },
  {
   "cell_type": "markdown",
   "metadata": {},
   "source": [
    "## Module and file imports"
   ]
  },
  {
   "cell_type": "code",
   "execution_count": 27,
   "metadata": {},
   "outputs": [],
   "source": [
    "import pandas as pd\n",
    "from IPython.display import display, HTML"
   ]
  },
  {
   "cell_type": "markdown",
   "metadata": {},
   "source": []
  },
  {
   "cell_type": "code",
   "execution_count": 28,
   "metadata": {},
   "outputs": [],
   "source": [
    "df_cleaned = pd.read_csv('../OSMI Raw Data/OSMI_merged.csv')\n",
    "df_2017 =    pd.read_csv('../OSMI Raw Data/OSMI_Mental_Health_in_Tech_Survey_2017.csv')\n",
    "df_2018 =    pd.read_csv('../OSMI Raw Data/OSMI_Mental_Health_in_Tech_Survey_2018.csv')\n",
    "df_2019 =    pd.read_csv('../OSMI Raw Data/OSMI_2019_Mental_Health_in_Tech_Survey_Results.csv')\n",
    "df_2020 =    pd.read_csv('../OSMI Raw Data/OSMI_2020_Mental_Health_in_Tech_Survey.csv')\n",
    "df_2021 =    pd.read_csv('../OSMI Raw Data/OSMI_2021_Mental_Health_in_Tech_Survey.csv')"
   ]
  },
  {
   "cell_type": "markdown",
   "metadata": {},
   "source": [
    "### Initial look at potential to merge automatedly\n",
    "\n",
    "Findings are that numerous column names vary slightly between years - manual renaming needed"
   ]
  },
  {
   "cell_type": "code",
   "execution_count": 29,
   "metadata": {},
   "outputs": [
    {
     "data": {
      "text/plain": [
       "1836"
      ]
     },
     "execution_count": 29,
     "metadata": {},
     "output_type": "execute_result"
    }
   ],
   "source": [
    "# Get the sum of rowsfrom yearly data\n",
    "total_row_length = sum(len(df) for df in [df_2017, df_2018, df_2019, df_2020, df_2021])\n",
    "total_row_length\n",
    "\n",
    "# compare to pre-merged"
   ]
  },
  {
   "cell_type": "code",
   "execution_count": 30,
   "metadata": {},
   "outputs": [
    {
     "data": {
      "text/plain": [
       "151"
      ]
     },
     "execution_count": 30,
     "metadata": {},
     "output_type": "execute_result"
    }
   ],
   "source": [
    "# Get the sum of unique columns from yearly data\n",
    "\n",
    "unique_columns = set()\n",
    "\n",
    "# Add unique columns from each DataFrame to the set\n",
    "for df in [df_2017, df_2018, df_2019, df_2020, df_2021]:\n",
    "    unique_columns.update(df.columns)\n",
    "\n",
    "total_unique_columns = len(unique_columns)\n",
    "\n",
    "total_unique_columns\n",
    "\n"
   ]
  },
  {
   "cell_type": "code",
   "execution_count": 31,
   "metadata": {},
   "outputs": [
    {
     "data": {
      "text/plain": [
       "58"
      ]
     },
     "execution_count": 31,
     "metadata": {},
     "output_type": "execute_result"
    }
   ],
   "source": [
    "common_columns = set(df_2017.columns)\n",
    "\n",
    "for df in [df_2018, df_2019, df_2020, df_2021]:\n",
    "    common_columns = common_columns.intersection(df.columns)\n",
    "\n",
    "total_common_columns = len(common_columns)\n",
    "total_common_columns"
   ]
  },
  {
   "cell_type": "markdown",
   "metadata": {},
   "source": [
    "## Prepping data sets for merge"
   ]
  },
  {
   "cell_type": "markdown",
   "metadata": {},
   "source": [
    "### 2017"
   ]
  },
  {
   "cell_type": "code",
   "execution_count": 32,
   "metadata": {},
   "outputs": [],
   "source": [
    "# Choosing 2017 columns\n",
    "df_2017_reduced = df_2017[[\n",
    "    'Is your employer primarily a tech company/organization?',\n",
    "    'Does your employer provide mental health benefits\\xa0as part of healthcare coverage?',\n",
    "    'Do you know the options for mental health care available under your employer-provided health coverage?',\n",
    "    'Do you currently have a mental health disorder?',\n",
    "    'Have you ever been diagnosed with a mental health disorder?',\n",
    "    'Do you have a family history of mental illness?',\n",
    "    'Have you ever discussed your mental health with your employer?',\n",
    "    'Is your anonymity protected if you choose to take advantage of mental health or substance abuse treatment resources provided by your employer?',\n",
    "    'If a mental health issue prompted you to request a medical leave from work, how easy or difficult would it be to ask for that leave?',\n",
    "    'Would you feel comfortable discussing a mental health issue with your direct supervisor(s)?',\n",
    "    'Would you feel comfortable discussing a mental health issue with your coworkers?',\n",
    "    'How many employees does your company or organization have?',\n",
    "    'Overall, how well do you think the tech industry supports employees with mental health issues?',\n",
    "    '<strong>Have you observed or experienced an unsupportive or badly handled response to a mental health issue in your current or previous workplace?</strong>',\n",
    "    '<strong>Have you observed or experienced supportive or well handled response to a mental health issue in your current or previous workplace?</strong>',\n",
    "    'What is your age?',\n",
    "    'What is your gender?',\n",
    "    'What country do you <strong>live</strong> in?',\n",
    "    'What is your race?',\n",
    "    ]]\n",
    "\n"
   ]
  },
  {
   "cell_type": "code",
   "execution_count": 33,
   "metadata": {},
   "outputs": [],
   "source": [
    "\n",
    "# Renaming 2017 columns\n",
    "df_2017_reduced = df_2017_reduced.rename(columns={\n",
    "    'Is your employer primarily a tech company/organization?': 'tech company',\n",
    "    'Does your employer provide mental health benefits\\xa0as part of healthcare coverage?': 'employer provided healthcare with mental benefits',\n",
    "    'Do you know the options for mental health care available under your employer-provided health coverage?': 'employer provided mental healthcare awareness',\n",
    "    'Do you currently have a mental health disorder?': 'current mental health disorder',\n",
    "    'Have you ever been diagnosed with a mental health disorder?': 'mental health diagnosis',\n",
    "    'Do you have a family history of mental illness?': 'family history of mental illness',\n",
    "    'Have you ever discussed your mental health with your employer?': 'discussed personal mental health with employer',\n",
    "    'Is your anonymity protected if you choose to take advantage of mental health or substance abuse treatment resources provided by your employer?': 'anonymity protected when using benefits',\n",
    "    'If a mental health issue prompted you to request a medical leave from work, how easy or difficult would it be to ask for that leave?': 'ease of asking for leave',\n",
    "    'Would you feel comfortable discussing a mental health issue with your direct supervisor(s)?': 'comfortable discussing a mental health issue with direct supervisor(s)',\n",
    "    'Would you feel comfortable discussing a mental health issue with your coworkers?': 'comfortable discussing a mental health issue with coworkers',\n",
    "    'How many employees does your company or organization have?': 'Number of employees',\n",
    "    'Overall, how well do you think the tech industry supports employees with mental health issues?': 'how well do you think the tech industry supports employees with mental health issues',\n",
    "    '<strong>Have you observed or experienced an unsupportive or badly handled response to a mental health issue in your current or previous workplace?</strong>': 'observed or experienced an unsupportive or badly handled response to a mental health issue in your current or previous workplace?',\n",
    "    '<strong>Have you observed or experienced supportive or well handled response to a mental health issue in your current or previous workplace?</strong>': 'observed or experienced supportive or well handled response to a mental health issue in your current or previous workplace',\n",
    "    'What is your age?': 'Age',\n",
    "    'What is your gender?': 'Gender',\n",
    "    'What country do you <strong>live</strong> in?': 'Country of residence',\n",
    "    'What is your race?': 'Race'\n",
    "})"
   ]
  },
  {
   "cell_type": "code",
   "execution_count": 34,
   "metadata": {},
   "outputs": [],
   "source": [
    "# add year\n",
    "df_2017_reduced['year'] = 2017"
   ]
  },
  {
   "cell_type": "markdown",
   "metadata": {},
   "source": [
    "### 2018"
   ]
  },
  {
   "cell_type": "code",
   "execution_count": 35,
   "metadata": {},
   "outputs": [],
   "source": [
    "# Choosing 2018 columns\n",
    "df_2018_reduced = df_2018[[\n",
    "    'Is your employer primarily a tech company/organization?',\n",
    "    'Does your employer provide mental health benefits as part of healthcare coverage?',\n",
    "    'Do you know the options for mental health care available under your employer-provided health coverage?',\n",
    "    'Do you currently have a mental health disorder?',\n",
    "    'Have you ever been diagnosed with a mental health disorder?',\n",
    "    'Do you have a family history of mental illness?',\n",
    "    'Have you ever discussed your mental health with your employer?',\n",
    "    'Is your anonymity protected if you choose to take advantage of mental health or substance abuse treatment resources provided by your employer?',\n",
    "    'If a mental health issue prompted you to request a medical leave from work, how easy or difficult would it be to ask for that leave?',\n",
    "    'Would you feel comfortable discussing a mental health issue with your direct supervisor(s)?',\n",
    "    'Would you feel comfortable discussing a mental health issue with your coworkers?',\n",
    "    'How many employees does your company or organization have?',\n",
    "    'Overall, how well do you think the tech industry supports employees with mental health issues?',\n",
    "    '<strong>Have you observed or experienced an unsupportive or badly handled response to a mental health issue in your current or previous workplace?</strong>',\n",
    "    '<strong>Have you observed or experienced supportive or well handled response to a mental health issue in your current or previous workplace?</strong>',\n",
    "    'What is your age?',\n",
    "    'What is your gender?',\n",
    "    'What country do you <strong>live</strong> in?',\n",
    "    'What is your race?',\n",
    "    ]]\n"
   ]
  },
  {
   "cell_type": "code",
   "execution_count": 36,
   "metadata": {},
   "outputs": [],
   "source": [
    "df_2018_reduced = df_2018_reduced.rename(columns={\n",
    "    'Is your employer primarily a tech company/organization?': 'tech company',\n",
    "    'Does your employer provide mental health benefits as part of healthcare coverage?': 'employer provided healthcare with mental benefits',\n",
    "    'Do you know the options for mental health care available under your employer-provided health coverage?': 'employer provided mental healthcare awareness',\n",
    "    'Do you currently have a mental health disorder?': 'current mental health disorder',\n",
    "    'Have you ever been diagnosed with a mental health disorder?': 'mental health diagnosis',\n",
    "    'Do you have a family history of mental illness?': 'family history of mental illness',\n",
    "    'Have you ever discussed your mental health with your employer?': 'discussed personal mental health with employer',\n",
    "    'Is your anonymity protected if you choose to take advantage of mental health or substance abuse treatment resources provided by your employer?': 'anonymity protected when using benefits',\n",
    "    'If a mental health issue prompted you to request a medical leave from work, how easy or difficult would it be to ask for that leave?': 'ease of asking for leave',\n",
    "    'Would you feel comfortable discussing a mental health issue with your direct supervisor(s)?': 'comfortable discussing a mental health issue with direct supervisor(s)',\n",
    "    'Would you feel comfortable discussing a mental health issue with your coworkers?': 'comfortable discussing a mental health issue with coworkers',\n",
    "    'How many employees does your company or organization have?': 'Number of employees',\n",
    "    'Overall, how well do you think the tech industry supports employees with mental health issues?': 'how well do you think the tech industry supports employees with mental health issues',\n",
    "    '<strong>Have you observed or experienced an unsupportive or badly handled response to a mental health issue in your current or previous workplace?</strong>': 'observed or experienced an unsupportive or badly handled response to a mental health issue in your current or previous workplace?',\n",
    "    '<strong>Have you observed or experienced supportive or well handled response to a mental health issue in your current or previous workplace?</strong>': 'observed or experienced supportive or well handled response to a mental health issue in your current or previous workplace',\n",
    "    'What is your age?': 'Age',\n",
    "    'What is your gender?': 'Gender',\n",
    "    'What country do you <strong>live</strong> in?': 'Country of residence',\n",
    "    'What is your race?': 'Race'\n",
    "    })"
   ]
  },
  {
   "cell_type": "code",
   "execution_count": 37,
   "metadata": {},
   "outputs": [],
   "source": [
    "df_2018_reduced['year'] = 2018"
   ]
  },
  {
   "cell_type": "markdown",
   "metadata": {},
   "source": [
    "### 2019"
   ]
  },
  {
   "cell_type": "code",
   "execution_count": 38,
   "metadata": {},
   "outputs": [],
   "source": [
    "# Choosing 2019 columns !!! NO DATE INFO (perhaps add year and clean other years to just year)\n",
    "df_2019_reduced = df_2019[[\n",
    "    'Is your employer primarily a tech company/organization?',\n",
    "    'Does your employer provide mental health benefits as part of healthcare coverage?',\n",
    "    'Do you know the options for mental health care available under your employer-provided health coverage?',\n",
    "    'Do you *currently* have a mental health disorder?',\n",
    "    'Have you ever been *diagnosed* with a mental health disorder?',\n",
    "    'Do you have a family history of mental illness?',\n",
    "    'Have you ever discussed your mental health with your employer?',\n",
    "    'Is your anonymity protected if you choose to take advantage of mental health or substance abuse treatment resources provided by your employer?',\n",
    "    'If a mental health issue prompted you to request a medical leave from work, how easy or difficult would it be to ask for that leave?',\n",
    "    'Would you feel comfortable discussing a mental health issue with your direct supervisor(s)?',\n",
    "    'Would you feel comfortable discussing a mental health issue with your coworkers?',\n",
    "    'How many employees does your company or organization have?',\n",
    "    'Overall, how well do you think the tech industry supports employees with mental health issues?',\n",
    "    'Have you observed or experienced an *unsupportive or badly handled response* to a mental health issue in your current or previous workplace?',\n",
    "    'Have you observed or experienced a *supportive or well handled response* to a mental health issue in your current or previous workplace?',\n",
    "    'What is your age?',\n",
    "    'What is your gender?',\n",
    "    'What country do you *live* in?',\n",
    "    'What is your race?',\n",
    "    ]]"
   ]
  },
  {
   "cell_type": "code",
   "execution_count": 39,
   "metadata": {},
   "outputs": [],
   "source": [
    "df_2019_reduced = df_2019_reduced.rename(columns={\n",
    "    'Is your employer primarily a tech company/organization?': 'tech company',\n",
    "    'Does your employer provide mental health benefits as part of healthcare coverage?': 'employer provided healthcare with mental benefits',\n",
    "    'Do you know the options for mental health care available under your employer-provided health coverage?': 'employer provided mental healthcare awareness',\n",
    "    'Do you *currently* have a mental health disorder?': 'current mental health disorder',\n",
    "    'Have you ever been *diagnosed* with a mental health disorder?': 'mental health diagnosis',\n",
    "    'Do you have a family history of mental illness?': 'family history of mental illness',\n",
    "    'Have you ever discussed your mental health with your employer?': 'discussed personal mental health with employer',\n",
    "    'Is your anonymity protected if you choose to take advantage of mental health or substance abuse treatment resources provided by your employer?': 'anonymity protected when using benefits',\n",
    "    'If a mental health issue prompted you to request a medical leave from work, how easy or difficult would it be to ask for that leave?': 'ease of asking for leave',\n",
    "    'Would you feel comfortable discussing a mental health issue with your direct supervisor(s)?': 'comfortable discussing a mental health issue with direct supervisor(s)',\n",
    "    'Would you feel comfortable discussing a mental health issue with your coworkers?': 'comfortable discussing a mental health issue with coworkers',\n",
    "    'How many employees does your company or organization have?': 'Number of employees',\n",
    "    'Overall, how well do you think the tech industry supports employees with mental health issues?': 'how well do you think the tech industry supports employees with mental health issues',\n",
    "    'Have you observed or experienced an *unsupportive or badly handled response* to a mental health issue in your current or previous workplace?': 'observed or experienced an unsupportive or badly handled response to a mental health issue in your current or previous workplace?',\n",
    "    'Have you observed or experienced a *supportive or well handled response* to a mental health issue in your current or previous workplace?': 'observed or experienced supportive or well handled response to a mental health issue in your current or previous workplace',\n",
    "    'What is your age?': 'Age',\n",
    "    'What is your gender?': 'Gender',\n",
    "    'What country do you *live* in?': 'Country of residence',\n",
    "    'What is your race?': 'Race'\n",
    "    })"
   ]
  },
  {
   "cell_type": "code",
   "execution_count": 40,
   "metadata": {},
   "outputs": [],
   "source": [
    "df_2019_reduced['year'] = 2019"
   ]
  },
  {
   "cell_type": "markdown",
   "metadata": {},
   "source": [
    "### 2020"
   ]
  },
  {
   "cell_type": "code",
   "execution_count": 41,
   "metadata": {},
   "outputs": [],
   "source": [
    "# choosing 2020 columns\n",
    "df_2020_reduced = df_2020[[\n",
    "    'Is your employer primarily a tech company/organization?',\n",
    "    'Does your employer provide mental health benefits as part of healthcare coverage?',\n",
    "    'Do you know the options for mental health care available under your employer-provided health coverage?',\n",
    "     'Do you *currently* have a mental health disorder?',\n",
    "     'Have you ever been *diagnosed* with a mental health disorder?',\n",
    "    'Do you have a family history of mental illness?',\n",
    "    'Have you ever discussed your mental health with your employer?',\n",
    "    'Is your anonymity protected if you choose to take advantage of mental health or substance abuse treatment resources provided by your employer?',\n",
    "    'If a mental health issue prompted you to request a medical leave from work, how easy or difficult would it be to ask for that leave?',\n",
    "    'Would you feel comfortable discussing a mental health issue with your direct supervisor(s)?',\n",
    "    'Would you feel comfortable discussing a mental health issue with your coworkers?',\n",
    "    'How many employees does your company or organization have?',\n",
    "    'Overall, how well do you think the tech industry supports employees with mental health issues?',\n",
    "    'Have you observed or experienced an *unsupportive or badly handled response* to a mental health issue in your current or previous workplace?',\n",
    "    'Have you observed or experienced a *supportive or well handled response* to a mental health issue in your current or previous workplace?',\n",
    "    'What is your age?',\n",
    "    'What is your gender?',\n",
    "    'What country do you *live* in?',\n",
    "    'What is your race?',\n",
    "    ]]"
   ]
  },
  {
   "cell_type": "code",
   "execution_count": 42,
   "metadata": {},
   "outputs": [],
   "source": [
    "df_2020_reduced = df_2020_reduced.rename(columns={\n",
    "    'Is your employer primarily a tech company/organization?': 'tech company',\n",
    "    'Does your employer provide mental health benefits as part of healthcare coverage?': 'employer provided healthcare with mental benefits',\n",
    "    'Do you know the options for mental health care available under your employer-provided health coverage?': 'employer provided mental healthcare awareness',\n",
    "    'Do you *currently* have a mental health disorder?': 'current mental health disorder',\n",
    "    'Have you ever been *diagnosed* with a mental health disorder?': 'mental health diagnosis',\n",
    "    'Do you have a family history of mental illness?': 'family history of mental illness',\n",
    "    'Have you ever discussed your mental health with your employer?': 'discussed personal mental health with employer',\n",
    "    'Is your anonymity protected if you choose to take advantage of mental health or substance abuse treatment resources provided by your employer?': 'anonymity protected when using benefits',\n",
    "    'If a mental health issue prompted you to request a medical leave from work, how easy or difficult would it be to ask for that leave?': 'ease of asking for leave',\n",
    "    'Would you feel comfortable discussing a mental health issue with your direct supervisor(s)?': 'comfortable discussing a mental health issue with direct supervisor(s)',\n",
    "    'Would you feel comfortable discussing a mental health issue with your coworkers?': 'comfortable discussing a mental health issue with coworkers',\n",
    "    'How many employees does your company or organization have?': 'Number of employees',\n",
    "    'Overall, how well do you think the tech industry supports employees with mental health issues?': 'how well do you think the tech industry supports employees with mental health issues',\n",
    "    'Have you observed or experienced an *unsupportive or badly handled response* to a mental health issue in your current or previous workplace?': 'observed or experienced an unsupportive or badly handled response to a mental health issue in your current or previous workplace?',\n",
    "    'Have you observed or experienced a *supportive or well handled response* to a mental health issue in your current or previous workplace?': 'observed or experienced supportive or well handled response to a mental health issue in your current or previous workplace',\n",
    "    'What is your age?': 'Age',\n",
    "    'What is your gender?': 'Gender',\n",
    "    'What country do you *live* in?': 'Country of residence',\n",
    "    'What is your race?': 'Race'\n",
    "    })"
   ]
  },
  {
   "cell_type": "code",
   "execution_count": 43,
   "metadata": {},
   "outputs": [],
   "source": [
    "df_2020_reduced['year'] = 2020"
   ]
  },
  {
   "cell_type": "markdown",
   "metadata": {},
   "source": [
    "### 2021"
   ]
  },
  {
   "cell_type": "code",
   "execution_count": 44,
   "metadata": {},
   "outputs": [],
   "source": [
    "df_2021_reduced = df_2021[[\n",
    "    'Is your employer primarily a tech company/organization?',\n",
    "    'Does your employer provide mental health benefits as part of healthcare coverage?',\n",
    "    'Do you know the options for mental health care available under your employer-provided health coverage?',\n",
    "    'Do you *currently* have a mental health disorder?',\n",
    "    'Have you ever been *diagnosed* with a mental health disorder?',\n",
    "    'Do you have a family history of mental illness?',\n",
    "    'Have you ever discussed your mental health with your employer?',\n",
    "    'Is your anonymity protected if you choose to take advantage of mental health or substance abuse treatment resources provided by your employer?',\n",
    "    'If a mental health issue prompted you to request a medical leave from work, how easy or difficult would it be to ask for that leave?',\n",
    "    'Would you feel comfortable discussing a mental health issue with your direct supervisor(s)?',\n",
    "    'Would you feel comfortable discussing a mental health issue with your coworkers?',\n",
    "    'How many employees does your company or organization have?',\n",
    "    'Overall, how well do you think the tech industry supports employees with mental health issues?',\n",
    "    'Have you observed or experienced an *unsupportive or badly handled response* to a mental health issue in your current or previous workplace?',\n",
    "    'Have you observed or experienced a *supportive or well handled response* to a mental health issue in your current or previous workplace?',\n",
    "    'What is your age?',\n",
    "    'What is your gender?',\n",
    "    'What country do you *live* in?',\n",
    "    'What is your race?',\n",
    "    ]]"
   ]
  },
  {
   "cell_type": "code",
   "execution_count": 45,
   "metadata": {},
   "outputs": [],
   "source": [
    "df_2021_reduced = df_2021_reduced.rename(columns={\n",
    "    'Is your employer primarily a tech company/organization?': 'tech company',\n",
    "    'Does your employer provide mental health benefits as part of healthcare coverage?': 'employer provided healthcare with mental benefits',\n",
    "    'Do you know the options for mental health care available under your employer-provided health coverage?': 'employer provided mental healthcare awareness',\n",
    "    'Do you *currently* have a mental health disorder?': 'current mental health disorder',\n",
    "    'Have you ever been *diagnosed* with a mental health disorder?': 'mental health diagnosis',\n",
    "    'Do you have a family history of mental illness?': 'family history of mental illness',\n",
    "    'Have you ever discussed your mental health with your employer?': 'discussed personal mental health with employer',\n",
    "    'Is your anonymity protected if you choose to take advantage of mental health or substance abuse treatment resources provided by your employer?': 'anonymity protected when using benefits',\n",
    "    'If a mental health issue prompted you to request a medical leave from work, how easy or difficult would it be to ask for that leave?': 'ease of asking for leave',\n",
    "    'Would you feel comfortable discussing a mental health issue with your direct supervisor(s)?': 'comfortable discussing a mental health issue with direct supervisor(s)',\n",
    "    'Would you feel comfortable discussing a mental health issue with your coworkers?': 'comfortable discussing a mental health issue with coworkers',\n",
    "    'How many employees does your company or organization have?': 'Number of employees',\n",
    "    'Overall, how well do you think the tech industry supports employees with mental health issues?': 'how well do you think the tech industry supports employees with mental health issues',\n",
    "    'Have you observed or experienced an *unsupportive or badly handled response* to a mental health issue in your current or previous workplace?': 'observed or experienced an unsupportive or badly handled response to a mental health issue in your current or previous workplace?',\n",
    "    'Have you observed or experienced a *supportive or well handled response* to a mental health issue in your current or previous workplace?': 'observed or experienced supportive or well handled response to a mental health issue in your current or previous workplace',\n",
    "    'What is your age?': 'Age',\n",
    "    'What is your gender?': 'Gender',\n",
    "    'What country do you *live* in?': 'Country of residence',\n",
    "    'What is your race?': 'Race'\n",
    "    })"
   ]
  },
  {
   "cell_type": "code",
   "execution_count": 46,
   "metadata": {},
   "outputs": [],
   "source": [
    "df_2021_reduced['year'] = 2021"
   ]
  },
  {
   "cell_type": "markdown",
   "metadata": {},
   "source": [
    "## Merge"
   ]
  },
  {
   "cell_type": "code",
   "execution_count": 47,
   "metadata": {},
   "outputs": [
    {
     "data": {
      "text/plain": [
       "['tech company',\n",
       " 'employer provided healthcare with mental benefits',\n",
       " 'employer provided mental healthcare awareness',\n",
       " 'current mental health disorder',\n",
       " 'mental health diagnosis',\n",
       " 'family history of mental illness',\n",
       " 'discussed personal mental health with employer',\n",
       " 'anonymity protected when using benefits',\n",
       " 'ease of asking for leave',\n",
       " 'comfortable discussing a mental health issue with direct supervisor(s)',\n",
       " 'comfortable discussing a mental health issue with coworkers',\n",
       " 'Number of employees',\n",
       " 'how well do you think the tech industry supports employees with mental health issues',\n",
       " 'observed or experienced an unsupportive or badly handled response to a mental health issue in your current or previous workplace?',\n",
       " 'observed or experienced supportive or well handled response to a mental health issue in your current or previous workplace',\n",
       " 'Age',\n",
       " 'Gender',\n",
       " 'Country of residence',\n",
       " 'Race',\n",
       " 'year']"
      ]
     },
     "execution_count": 47,
     "metadata": {},
     "output_type": "execute_result"
    }
   ],
   "source": [
    "# merge all reduced dataframes\n",
    "merged_df = pd.concat([df_2017_reduced, df_2018_reduced, df_2019_reduced, df_2020_reduced, df_2021_reduced])\n",
    "merged_df.columns.tolist()"
   ]
  },
  {
   "cell_type": "code",
   "execution_count": 48,
   "metadata": {},
   "outputs": [],
   "source": [
    "# export merged data as csv file\n",
    "csv_file_path = (\"OSMI_clean.csv\")\n",
    "merged_df.to_csv(csv_file_path, index=False)"
   ]
  },
  {
   "cell_type": "code",
   "execution_count": null,
   "metadata": {},
   "outputs": [],
   "source": []
  }
 ],
 "metadata": {
  "kernelspec": {
   "display_name": "dev",
   "language": "python",
   "name": "python3"
  },
  "language_info": {
   "codemirror_mode": {
    "name": "ipython",
    "version": 3
   },
   "file_extension": ".py",
   "mimetype": "text/x-python",
   "name": "python",
   "nbconvert_exporter": "python",
   "pygments_lexer": "ipython3",
   "version": "3.10.13"
  }
 },
 "nbformat": 4,
 "nbformat_minor": 2
}
